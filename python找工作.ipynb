{
 "cells": [
  {
   "cell_type": "markdown",
   "metadata": {},
   "source": [
    "# 输入 输出"
   ]
  },
  {
   "cell_type": "code",
   "execution_count": null,
   "metadata": {},
   "outputs": [],
   "source": [
    "import sys\n",
    "lines=[]\n",
    "for line in sys.stdin:\n",
    "    a = line.split()\n",
    "    # 每一行输入的第一个输入\n",
    "    lines.append(a[0])"
   ]
  },
  {
   "cell_type": "markdown",
   "metadata": {},
   "source": [
    "# dict"
   ]
  },
  {
   "cell_type": "code",
   "execution_count": 1,
   "metadata": {},
   "outputs": [
    {
     "name": "stdout",
     "output_type": "stream",
     "text": [
      "{'k': 3, 'ss': 1}\n"
     ]
    }
   ],
   "source": [
    "d={}\n",
    "d[\"k\"]=1\n",
    "d[\"ss\"]=1\n",
    "d[\"k\"]=5\n",
    "d[\"k\"]=3\n",
    "print(d)"
   ]
  },
  {
   "cell_type": "markdown",
   "metadata": {},
   "source": [
    "# list - str"
   ]
  },
  {
   "cell_type": "code",
   "execution_count": 7,
   "metadata": {},
   "outputs": [
    {
     "name": "stdout",
     "output_type": "stream",
     "text": [
      "list1: ['c', 'n', 'm']\n",
      "str2: cnm\n"
     ]
    }
   ],
   "source": [
    "str1 = \"cnm\"\n",
    "list1 = list(str1)\n",
    "\n",
    "print(\"list1:\",list1)\n",
    "\n",
    "str2=\"\".join(list1)\n",
    "print(\"str2:\",str2)"
   ]
  },
  {
   "cell_type": "markdown",
   "metadata": {},
   "source": [
    "# set"
   ]
  },
  {
   "cell_type": "code",
   "execution_count": 28,
   "metadata": {},
   "outputs": [
    {
     "name": "stdout",
     "output_type": "stream",
     "text": [
      "x: {'0', '1'}\n",
      "2\n",
      "list1 ['0', '1']\n",
      "list2 ['0', '1']\n"
     ]
    }
   ],
   "source": [
    "str1=\"11110001\"\n",
    "x = set(str1)\n",
    "print(\"x:\",x)\n",
    "print(len(x))\n",
    "list1=list(x)\n",
    "print(\"list1\",list1)\n",
    "list2=sorted(list1)\n",
    "print(\"list2\",list2)\n"
   ]
  },
  {
   "cell_type": "markdown",
   "metadata": {},
   "source": [
    "# 不改变顺序set"
   ]
  },
  {
   "cell_type": "code",
   "execution_count": 9,
   "metadata": {},
   "outputs": [
    {
     "name": "stdout",
     "output_type": "stream",
     "text": [
      "[1, 3, 3, 2]\n",
      "[1, 2, 3]\n",
      "[1, 3, 2]\n"
     ]
    }
   ],
   "source": [
    "a=[1,3,3,2]\n",
    "print(a)\n",
    "b=list(set(a))\n",
    "print(b)\n",
    "b.sort(key=a.index)\n",
    "print(b)"
   ]
  },
  {
   "cell_type": "markdown",
   "metadata": {},
   "source": [
    "# sort"
   ]
  },
  {
   "cell_type": "code",
   "execution_count": 1,
   "metadata": {},
   "outputs": [
    {
     "name": "stdout",
     "output_type": "stream",
     "text": [
      "[0, 4, 5, 7, 9, 9]\n"
     ]
    }
   ],
   "source": [
    "list1=[4,5,7,9,0,9]\n",
    "list1.sort()\n",
    "print(list1)"
   ]
  },
  {
   "cell_type": "markdown",
   "metadata": {},
   "source": [
    "# find"
   ]
  },
  {
   "cell_type": "code",
   "execution_count": 4,
   "metadata": {},
   "outputs": [
    {
     "name": "stdout",
     "output_type": "stream",
     "text": [
      "0\n"
     ]
    }
   ],
   "source": [
    "list1=[4,5,7,9,0,9]\n",
    "t=list1.index(4)\n",
    "print(t)"
   ]
  },
  {
   "cell_type": "code",
   "execution_count": 14,
   "metadata": {},
   "outputs": [],
   "source": [
    "#\n",
    "class Solution:\n",
    "    def twoSum(self , numbers, target):\n",
    "        new_nums=sorted(numbers)\n",
    "        \n",
    "        new_nums.sort()\n",
    "        l=0\n",
    "        r=len(numbers)-1\n",
    "        res=[]\n",
    "        \n",
    "        print(new_nums)\n",
    "        print(numbers)\n",
    "        \n",
    "        while(l<r):\n",
    "            tmp=new_nums[l]+new_nums[r]\n",
    "            if(tmp==target):\n",
    "                print(l)\n",
    "                print(r)\n",
    "                true_l=numbers.index(new_nums[l])\n",
    "                numbers[true_l]=None\n",
    "                true_r=numbers.index(new_nums[r])\n",
    "                print(true_l,true_r)\n",
    "                \n",
    "                f_l=min(true_l,true_r)\n",
    "                f_r=max(true_l,true_r)\n",
    "                print(f_l,f_r)\n",
    "                \n",
    "                res.append(f_l+1)\n",
    "                res.append(f_r+1)\n",
    "                return res\n",
    "            elif(tmp<target):\n",
    "                l=l+1\n",
    "            elif(tmp>target):\n",
    "                r=r-1\n",
    "t=Solution()"
   ]
  },
  {
   "cell_type": "code",
   "execution_count": 15,
   "metadata": {},
   "outputs": [
    {
     "name": "stdout",
     "output_type": "stream",
     "text": [
      "[2, 3, 4]\n",
      "[2, 3, 4]\n",
      "0\n",
      "2\n",
      "0 2\n",
      "0 2\n"
     ]
    },
    {
     "data": {
      "text/plain": [
       "[1, 3]"
      ]
     },
     "execution_count": 15,
     "metadata": {},
     "output_type": "execute_result"
    }
   ],
   "source": [
    "list1=[3,2,4]\n",
    "t.twoSum(list1,6)"
   ]
  },
  {
   "cell_type": "code",
   "execution_count": 16,
   "metadata": {},
   "outputs": [
    {
     "data": {
      "text/plain": [
       "4"
      ]
     },
     "execution_count": 16,
     "metadata": {},
     "output_type": "execute_result"
    }
   ],
   "source": [
    "int(9/2)"
   ]
  },
  {
   "cell_type": "markdown",
   "metadata": {},
   "source": [
    "# count"
   ]
  },
  {
   "cell_type": "code",
   "execution_count": 3,
   "metadata": {},
   "outputs": [
    {
     "name": "stdout",
     "output_type": "stream",
     "text": [
      "[1, 4, 6]\n"
     ]
    }
   ],
   "source": [
    "list1=[1,4,1,6]\n",
    "s=list(set(list1))\n",
    "print(s)"
   ]
  },
  {
   "cell_type": "code",
   "execution_count": 11,
   "metadata": {},
   "outputs": [
    {
     "name": "stdout",
     "output_type": "stream",
     "text": [
      "[4, 6]\n"
     ]
    }
   ],
   "source": [
    "array=[1,4,1,6]\n",
    "res=[]\n",
    "s=list(set(array))\n",
    "for i in range(len(s)):\n",
    "    if(array.count(s[i])==1):\n",
    "        res.append(s[i])\n",
    "res.sort()\n",
    "print(res)"
   ]
  },
  {
   "cell_type": "code",
   "execution_count": null,
   "metadata": {},
   "outputs": [],
   "source": []
  },
  {
   "cell_type": "code",
   "execution_count": 23,
   "metadata": {
    "tags": []
   },
   "outputs": [
    {
     "name": "stdout",
     "output_type": "stream",
     "text": [
      "f\n",
      "k: 2\n",
      "f\n",
      "k: 2\n",
      "f\n",
      "f\n",
      "k: 3\n",
      "f\n",
      "k: 3\n",
      "f\n",
      "f\n",
      "f\n",
      "k: 5\n",
      "2 2 3 3 5 \n"
     ]
    }
   ],
   "source": [
    "n=180\n",
    "m=[]\n",
    "flag=2\n",
    "def process_once(k,num):\n",
    "    global m\n",
    "    if(int(num/k)==(num/k)):\n",
    "        m.append(k)\n",
    "        print(\"k:\",k)\n",
    "        return k,int(num/k)\n",
    "    else:\n",
    "        return k+1,num\n",
    "while(flag<=n):\n",
    "    print(\"f\")\n",
    "    flag,n=process_once(flag, n)\n",
    "\n",
    "res=\"\"\n",
    "for p in m:\n",
    "    res=res+str(p)+\" \"\n",
    "print(res)"
   ]
  },
  {
   "cell_type": "markdown",
   "metadata": {},
   "source": [
    "# 排序专题"
   ]
  },
  {
   "cell_type": "markdown",
   "metadata": {},
   "source": [
    "## 一维排序"
   ]
  },
  {
   "cell_type": "code",
   "execution_count": 15,
   "metadata": {},
   "outputs": [
    {
     "name": "stdout",
     "output_type": "stream",
     "text": [
      "[90, 71, 6, 5, 4]\n"
     ]
    }
   ],
   "source": [
    "l=[90,4,5,6,71]\n",
    "l.sort(reverse=True)\n",
    "print(l)"
   ]
  },
  {
   "cell_type": "markdown",
   "metadata": {},
   "source": [
    "## 二维数组排序"
   ]
  },
  {
   "cell_type": "code",
   "execution_count": 17,
   "metadata": {},
   "outputs": [
    {
     "name": "stdout",
     "output_type": "stream",
     "text": [
      "[[1, 2], [2, 1], [3, 1]]\n"
     ]
    }
   ],
   "source": [
    "l=[[1,2],[3,1],[2,1]]\n",
    "y=sorted(l, key=lambda l: l[0])\n",
    "print(y)"
   ]
  },
  {
   "cell_type": "markdown",
   "metadata": {},
   "source": [
    "## 一个类别根据另一个类别排序  重复的不改变顺序"
   ]
  },
  {
   "cell_type": "code",
   "execution_count": 18,
   "metadata": {},
   "outputs": [
    {
     "name": "stdout",
     "output_type": "stream",
     "text": [
      "['b', 'c', 'd', 'a']\n",
      "[3, 3, 3, 4]\n"
     ]
    }
   ],
   "source": [
    "def qmsort1(names,grades):\n",
    "    res_grades=[]\n",
    "    res_names=[]\n",
    "    real=list(set(grades))\n",
    "    real.sort()\n",
    "    for r in real:\n",
    "        for i in range(0,len(grades)):\n",
    "            if(r==grades[i]):\n",
    "                res_grades.append(grades[i])\n",
    "                res_names.append(names[i])\n",
    "                grades[i]=-1\n",
    "    return res_names,res_grades\n",
    "def qmsort2(names,grades):\n",
    "    res_grades=[]\n",
    "    res_names=[]\n",
    "    real=list(set(grades))\n",
    "    real.sort(reverse=True)\n",
    "    for r in real:\n",
    "        for i in range(0,len(grades)):\n",
    "            if(r==grades[i]):\n",
    "                res_grades.append(grades[i])\n",
    "                res_names.append(names[i])\n",
    "                grades[i]=-1\n",
    "    return res_names,res_grades\n",
    "a=[\"a\",\"b\",\"c\",\"d\"]\n",
    "b=[4,3,3,3]\n",
    "a,b=qmsort1(a,b)\n",
    "print(a)\n",
    "print(b)"
   ]
  },
  {
   "cell_type": "markdown",
   "metadata": {},
   "source": [
    "# 字符 数字互转"
   ]
  },
  {
   "cell_type": "code",
   "execution_count": 29,
   "metadata": {},
   "outputs": [
    {
     "name": "stdout",
     "output_type": "stream",
     "text": [
      "99\n"
     ]
    }
   ],
   "source": [
    "print(ord('c'))"
   ]
  },
  {
   "cell_type": "code",
   "execution_count": 30,
   "metadata": {},
   "outputs": [
    {
     "name": "stdout",
     "output_type": "stream",
     "text": [
      "c\n"
     ]
    }
   ],
   "source": [
    "print(chr(99))"
   ]
  },
  {
   "cell_type": "code",
   "execution_count": 3,
   "metadata": {},
   "outputs": [
    {
     "name": "stdout",
     "output_type": "stream",
     "text": [
      "[[0, 0, 0], [0, 0, 0], [0, 0, 0], [0, 0, 0], [0, 0, 0]]\n"
     ]
    }
   ],
   "source": [
    "dp = [[0]*(3) for _ in range(5)]\n",
    "print(dp)"
   ]
  },
  {
   "cell_type": "code",
   "execution_count": 5,
   "metadata": {},
   "outputs": [
    {
     "name": "stdout",
     "output_type": "stream",
     "text": [
      "12\n",
      "1\n"
     ]
    }
   ],
   "source": [
    "a=\"012\"\n",
    "b=int(a)\n",
    "print(b)\n",
    "print(a[1:2])"
   ]
  },
  {
   "cell_type": "code",
   "execution_count": 10,
   "metadata": {},
   "outputs": [
    {
     "name": "stdout",
     "output_type": "stream",
     "text": [
      "97\n",
      "122\n",
      "65\n",
      "90\n",
      "50\n"
     ]
    }
   ],
   "source": [
    "a='a'\n",
    "z='z'\n",
    "A='A'\n",
    "Z='Z'\n",
    "n='2'\n",
    "print(ord(a))\n",
    "print(ord(z))\n",
    "print(ord(A))\n",
    "print(ord(Z))\n",
    "print(ord(n))"
   ]
  },
  {
   "cell_type": "code",
   "execution_count": 20,
   "metadata": {},
   "outputs": [
    {
     "name": "stdout",
     "output_type": "stream",
     "text": [
      "0\n"
     ]
    }
   ],
   "source": [
    "a=\"000\"\n",
    "b=int(a)\n",
    "print(b)"
   ]
  },
  {
   "cell_type": "markdown",
   "metadata": {},
   "source": [
    "# 序列 100个0"
   ]
  },
  {
   "cell_type": "code",
   "execution_count": 100,
   "metadata": {},
   "outputs": [
    {
     "name": "stdout",
     "output_type": "stream",
     "text": [
      "100 [0, 0, 0, 0, 0, 0, 0, 0, 0, 0, 0, 0, 0, 0, 0, 0, 0, 0, 0, 0, 0, 0, 0, 0, 0, 0, 0, 0, 0, 0, 0, 0, 0, 0, 0, 0, 0, 0, 0, 0, 0, 0, 0, 0, 0, 0, 0, 0, 0, 0, 0, 0, 0, 0, 0, 0, 0, 0, 0, 0, 0, 0, 0, 0, 0, 0, 0, 0, 0, 0, 0, 0, 0, 0, 0, 0, 0, 0, 0, 0, 0, 0, 0, 0, 0, 0, 0, 0, 0, 0, 0, 0, 0, 0, 0, 0, 0, 0, 0, 0]\n"
     ]
    }
   ],
   "source": [
    "res=[0 for i in range(0,100)]\n",
    "print(len(res),res)"
   ]
  },
  {
   "cell_type": "markdown",
   "metadata": {},
   "source": [
    "# 序列 产生 1-100"
   ]
  },
  {
   "cell_type": "code",
   "execution_count": 24,
   "metadata": {},
   "outputs": [
    {
     "name": "stdout",
     "output_type": "stream",
     "text": [
      "['0', '1', '2', '3', '4', '5', '6', '7', '8', '9', '10', '11', '12', '13', '14', '15', '16', '17', '18', '19', '20', '21', '22', '23', '24', '25', '26', '27', '28', '29', '30', '31', '32', '33', '34', '35', '36', '37', '38', '39', '40', '41', '42', '43', '44', '45', '46', '47', '48', '49', '50', '51', '52', '53', '54', '55', '56', '57', '58', '59', '60', '61', '62', '63', '64', '65', '66', '67', '68', '69', '70', '71', '72', '73', '74', '75', '76', '77', '78', '79', '80', '81', '82', '83', '84', '85', '86', '87', '88', '89', '90', '91', '92', '93', '94', '95', '96', '97', '98', '99', '100', '101', '102', '103', '104', '105', '106', '107', '108', '109', '110', '111', '112', '113', '114', '115', '116', '117', '118', '119', '120', '121', '122', '123', '124', '125', '126', '127', '128', '129', '130', '131', '132', '133', '134', '135', '136', '137', '138', '139', '140', '141', '142', '143', '144', '145', '146', '147', '148', '149', '150', '151', '152', '153', '154', '155', '156', '157', '158', '159', '160', '161', '162', '163', '164', '165', '166', '167', '168', '169', '170', '171', '172', '173', '174', '175', '176', '177', '178', '179', '180', '181', '182', '183', '184', '185', '186', '187', '188', '189', '190', '191', '192', '193', '194', '195', '196', '197', '198', '199', '200', '201', '202', '203', '204', '205', '206', '207', '208', '209', '210', '211', '212', '213', '214', '215', '216', '217', '218', '219', '220', '221', '222', '223', '224', '225', '226', '227', '228', '229', '230', '231', '232', '233', '234', '235', '236', '237', '238', '239', '240', '241', '242', '243', '244', '245', '246', '247', '248', '249', '250', '251', '252', '253', '254', '255']\n"
     ]
    }
   ],
   "source": [
    "dp = list(range(0,256))\n",
    "dp = list(map(str,dp))\n",
    "print(dp)"
   ]
  },
  {
   "cell_type": "code",
   "execution_count": 25,
   "metadata": {},
   "outputs": [
    {
     "name": "stdout",
     "output_type": "stream",
     "text": [
      "['0', '1', '2', '3', '4', '5', '6', '7', '8', '9', '10', '11', '12', '13', '14', '15', '16', '17', '18', '19', '20', '21', '22', '23', '24', '25', '26', '27', '28', '29', '30', '31', '32', '33', '34', '35', '36', '37', '38', '39', '40', '41', '42', '43', '44', '45', '46', '47', '48', '49', '50', '51', '52', '53', '54', '55', '56', '57', '58', '59', '60', '61', '62', '63', '64', '65', '66', '67', '68', '69', '70', '71', '72', '73', '74', '75', '76', '77', '78', '79', '80', '81', '82', '83', '84', '85', '86', '87', '88', '89', '90', '91', '92', '93', '94', '95', '96', '97', '98', '99', '100', '101', '102', '103', '104', '105', '106', '107', '108', '109', '110', '111', '112', '113', '114', '115', '116', '117', '118', '119', '120', '121', '122', '123', '124', '125', '126', '127', '128', '129', '130', '131', '132', '133', '134', '135', '136', '137', '138', '139', '140', '141', '142', '143', '144', '145', '146', '147', '148', '149', '150', '151', '152', '153', '154', '155', '156', '157', '158', '159', '160', '161', '162', '163', '164', '165', '166', '167', '168', '169', '170', '171', '172', '173', '174', '175', '176', '177', '178', '179', '180', '181', '182', '183', '184', '185', '186', '187', '188', '189', '190', '191', '192', '193', '194', '195', '196', '197', '198', '199', '200', '201', '202', '203', '204', '205', '206', '207', '208', '209', '210', '211', '212', '213', '214', '215', '216', '217', '218', '219', '220', '221', '222', '223', '224', '225', '226', '227', '228', '229', '230', '231', '232', '233', '234', '235', '236', '237', '238', '239', '240', '241', '242', '243', '244', '245', '246', '247', '248', '249', '250', '251', '252', '253', '254', '255']\n"
     ]
    }
   ],
   "source": [
    "dp = list(map(str,list(range(0,256))))\n",
    "print(dp)"
   ]
  },
  {
   "cell_type": "code",
   "execution_count": 29,
   "metadata": {},
   "outputs": [
    {
     "name": "stdout",
     "output_type": "stream",
     "text": [
      "['1', '2', '3', '4', '5', '6', '7', '8', '9', '10', '11', '12', '13', '14', '15', '16', '17', '18', '19', '20', '21', '22', '23', '24', '25', '26', '27', '28', '29', '30', '31', '32', '33', '34', '35', '36', '37', '38', '39', '40', '41', '42', '43', '44', '45', '46', '47', '48', '49', '50', '51', '52', '53', '54', '55', '56', '57', '58', '59', '60', '61', '62', '63', '64', '65', '66', '67', '68', '69', '70', '71', '72', '73', '74', '75', '76', '77', '78', '79', '80', '81', '82', '83', '84', '85', '86', '87', '88', '89', '90', '91', '92', '93', '94', '95', '96', '97', '98', '99', '100', '101', '102', '103', '104', '105', '106', '107', '108', '109', '110', '111', '112', '113', '114', '115', '116', '117', '118', '119', '120', '121', '122', '123', '124', '125', '126']\n"
     ]
    }
   ],
   "source": [
    "A_three_list=list(map(str,list(range(1,127))))\n",
    "print(A_three_list)"
   ]
  },
  {
   "cell_type": "code",
   "execution_count": 31,
   "metadata": {},
   "outputs": [
    {
     "name": "stdout",
     "output_type": "stream",
     "text": [
      "True\n",
      "True\n"
     ]
    }
   ],
   "source": [
    "zero_list=[\"0\"]\n",
    "print(\"0\" in zero_list)\n",
    "print('0' in zero_list)"
   ]
  },
  {
   "cell_type": "code",
   "execution_count": 35,
   "metadata": {
    "collapsed": true,
    "jupyter": {
     "outputs_hidden": true
    },
    "tags": []
   },
   "outputs": [
    {
     "name": "stdout",
     "output_type": "stream",
     "text": [
      "0\n",
      "1\n",
      "10\n",
      "11\n",
      "100\n",
      "101\n",
      "110\n",
      "111\n",
      "1000\n",
      "1001\n",
      "1010\n",
      "1011\n",
      "1100\n",
      "1101\n",
      "1110\n",
      "1111\n",
      "10000\n",
      "10001\n",
      "10010\n",
      "10011\n",
      "10100\n",
      "10101\n",
      "10110\n",
      "10111\n",
      "11000\n",
      "11001\n",
      "11010\n",
      "11011\n",
      "11100\n",
      "11101\n",
      "11110\n",
      "11111\n",
      "100000\n",
      "100001\n",
      "100010\n",
      "100011\n",
      "100100\n",
      "100101\n",
      "100110\n",
      "100111\n",
      "101000\n",
      "101001\n",
      "101010\n",
      "101011\n",
      "101100\n",
      "101101\n",
      "101110\n",
      "101111\n",
      "110000\n",
      "110001\n",
      "110010\n",
      "110011\n",
      "110100\n",
      "110101\n",
      "110110\n",
      "110111\n",
      "111000\n",
      "111001\n",
      "111010\n",
      "111011\n",
      "111100\n",
      "111101\n",
      "111110\n",
      "111111\n",
      "1000000\n",
      "1000001\n",
      "1000010\n",
      "1000011\n",
      "1000100\n",
      "1000101\n",
      "1000110\n",
      "1000111\n",
      "1001000\n",
      "1001001\n",
      "1001010\n",
      "1001011\n",
      "1001100\n",
      "1001101\n",
      "1001110\n",
      "1001111\n",
      "1010000\n",
      "1010001\n",
      "1010010\n",
      "1010011\n",
      "1010100\n",
      "1010101\n",
      "1010110\n",
      "1010111\n",
      "1011000\n",
      "1011001\n",
      "1011010\n",
      "1011011\n",
      "1011100\n",
      "1011101\n",
      "1011110\n",
      "1011111\n",
      "1100000\n",
      "1100001\n",
      "1100010\n",
      "1100011\n",
      "1100100\n",
      "1100101\n",
      "1100110\n",
      "1100111\n",
      "1101000\n",
      "1101001\n",
      "1101010\n",
      "1101011\n",
      "1101100\n",
      "1101101\n",
      "1101110\n",
      "1101111\n",
      "1110000\n",
      "1110001\n",
      "1110010\n",
      "1110011\n",
      "1110100\n",
      "1110101\n",
      "1110110\n",
      "1110111\n",
      "1111000\n",
      "1111001\n",
      "1111010\n",
      "1111011\n",
      "1111100\n",
      "1111101\n",
      "1111110\n",
      "1111111\n",
      "10000000\n",
      "10000001\n",
      "10000010\n",
      "10000011\n",
      "10000100\n",
      "10000101\n",
      "10000110\n",
      "10000111\n",
      "10001000\n",
      "10001001\n",
      "10001010\n",
      "10001011\n",
      "10001100\n",
      "10001101\n",
      "10001110\n",
      "10001111\n",
      "10010000\n",
      "10010001\n",
      "10010010\n",
      "10010011\n",
      "10010100\n",
      "10010101\n",
      "10010110\n",
      "10010111\n",
      "10011000\n",
      "10011001\n",
      "10011010\n",
      "10011011\n",
      "10011100\n",
      "10011101\n",
      "10011110\n",
      "10011111\n",
      "10100000\n",
      "10100001\n",
      "10100010\n",
      "10100011\n",
      "10100100\n",
      "10100101\n",
      "10100110\n",
      "10100111\n",
      "10101000\n",
      "10101001\n",
      "10101010\n",
      "10101011\n",
      "10101100\n",
      "10101101\n",
      "10101110\n",
      "10101111\n",
      "10110000\n",
      "10110001\n",
      "10110010\n",
      "10110011\n",
      "10110100\n",
      "10110101\n",
      "10110110\n",
      "10110111\n",
      "10111000\n",
      "10111001\n",
      "10111010\n",
      "10111011\n",
      "10111100\n",
      "10111101\n",
      "10111110\n",
      "10111111\n",
      "11000000\n",
      "11000001\n",
      "11000010\n",
      "11000011\n",
      "11000100\n",
      "11000101\n",
      "11000110\n",
      "11000111\n",
      "11001000\n",
      "11001001\n",
      "11001010\n",
      "11001011\n",
      "11001100\n",
      "11001101\n",
      "11001110\n",
      "11001111\n",
      "11010000\n",
      "11010001\n",
      "11010010\n",
      "11010011\n",
      "11010100\n",
      "11010101\n",
      "11010110\n",
      "11010111\n",
      "11011000\n",
      "11011001\n",
      "11011010\n",
      "11011011\n",
      "11011100\n",
      "11011101\n",
      "11011110\n",
      "11011111\n",
      "11100000\n",
      "11100001\n",
      "11100010\n",
      "11100011\n",
      "11100100\n",
      "11100101\n",
      "11100110\n",
      "11100111\n",
      "11101000\n",
      "11101001\n",
      "11101010\n",
      "11101011\n",
      "11101100\n",
      "11101101\n",
      "11101110\n",
      "11101111\n",
      "11110000\n",
      "11110001\n",
      "11110010\n",
      "11110011\n",
      "11110100\n",
      "11110101\n",
      "11110110\n",
      "11110111\n",
      "11111000\n",
      "11111001\n",
      "11111010\n",
      "11111011\n",
      "11111100\n",
      "11111101\n",
      "11111110\n",
      "11111111\n"
     ]
    }
   ],
   "source": [
    "for i in range(0,256):\n",
    "    print(bin(i)[2:])\n"
   ]
  },
  {
   "cell_type": "code",
   "execution_count": 38,
   "metadata": {},
   "outputs": [
    {
     "name": "stdout",
     "output_type": "stream",
     "text": [
      "{'0', '2', '1'}\n",
      "3\n"
     ]
    }
   ],
   "source": [
    "a=\"0000100100012\"\n",
    "print(set(a))\n",
    "print(len(set(a)))"
   ]
  },
  {
   "cell_type": "code",
   "execution_count": 52,
   "metadata": {},
   "outputs": [
    {
     "name": "stdout",
     "output_type": "stream",
     "text": [
      "cqzlyaszjvlsjmkwoqijggmybr'\n",
      "sjmkwoqijggmybr'\n",
      "16\n"
     ]
    }
   ],
   "source": [
    "a='D:\\zwtymj\\xccb\\ljj\\cqzlyaszjvlsjmkwoqijggmybr 645'\n",
    "path,line=a.split()\n",
    "path=repr(path)\n",
    "file_name=path.split(\"\\\\\")[-1]\n",
    "print(file_name)\n",
    "if(len(file_name)>16):\n",
    "    file_name=file_name[-16:]\n",
    "print(file_name)\n",
    "print(len(file_name))"
   ]
  },
  {
   "cell_type": "code",
   "execution_count": 54,
   "metadata": {},
   "outputs": [
    {
     "name": "stdout",
     "output_type": "stream",
     "text": [
      "2\n"
     ]
    }
   ],
   "source": [
    "a=[\"1\",\"22\",\"33\"]\n",
    "print(a.index(\"33\"))"
   ]
  },
  {
   "cell_type": "code",
   "execution_count": 60,
   "metadata": {},
   "outputs": [
    {
     "name": "stdout",
     "output_type": "stream",
     "text": [
      "[1, 2, 3, 4, 5, 6, 7, 8]\n"
     ]
    }
   ],
   "source": [
    "b=[1,2,3,4,5,6,7,8]\n",
    "print(b[-100:])"
   ]
  },
  {
   "cell_type": "code",
   "execution_count": 59,
   "metadata": {},
   "outputs": [
    {
     "name": "stdout",
     "output_type": "stream",
     "text": [
      "1\n",
      "2\n",
      "3\n",
      "4\n",
      "5\n",
      "6\n",
      "7\n"
     ]
    }
   ],
   "source": [
    "for i in range(1,8):\n",
    "    print(i)"
   ]
  },
  {
   "cell_type": "markdown",
   "metadata": {},
   "source": [
    "# 大小写字母"
   ]
  },
  {
   "cell_type": "code",
   "execution_count": 67,
   "metadata": {},
   "outputs": [
    {
     "name": "stdout",
     "output_type": "stream",
     "text": [
      "{\n"
     ]
    }
   ],
   "source": [
    "a=\"x\"\n",
    "b=ord(a)+3\n",
    "print(chr(b))"
   ]
  },
  {
   "cell_type": "code",
   "execution_count": 69,
   "metadata": {},
   "outputs": [
    {
     "name": "stdout",
     "output_type": "stream",
     "text": [
      "123\n"
     ]
    }
   ],
   "source": [
    "a=\"123\"\n",
    "a.replace(a[0],\"cnm\")\n",
    "print(a)"
   ]
  },
  {
   "cell_type": "code",
   "execution_count": 70,
   "metadata": {},
   "outputs": [
    {
     "name": "stdout",
     "output_type": "stream",
     "text": [
      "z\n"
     ]
    }
   ],
   "source": [
    "num=ord('y'.lower())+1\n",
    "new_chr=chr(num)\n",
    "print(new_chr)"
   ]
  },
  {
   "cell_type": "code",
   "execution_count": 74,
   "metadata": {},
   "outputs": [
    {
     "name": "stdout",
     "output_type": "stream",
     "text": [
      "2\n"
     ]
    }
   ],
   "source": [
    "a=[2,3,1,1,1,1]\n",
    "min_num=min(a)\n",
    "min_index=a.index(min_num)\n",
    "print(min_index)"
   ]
  },
  {
   "cell_type": "code",
   "execution_count": 80,
   "metadata": {},
   "outputs": [
    {
     "name": "stdout",
     "output_type": "stream",
     "text": [
      "23333\n"
     ]
    }
   ],
   "source": [
    "a=\"1233331\"\n",
    "a=a.replace(\"1\",\"\")\n",
    "print(a)"
   ]
  },
  {
   "cell_type": "markdown",
   "metadata": {},
   "source": [
    "#  生成a-z"
   ]
  },
  {
   "cell_type": "code",
   "execution_count": 83,
   "metadata": {},
   "outputs": [
    {
     "name": "stdout",
     "output_type": "stream",
     "text": [
      "['a', 'b', 'c', 'd', 'e', 'f', 'g', 'h', 'i', 'j', 'k', 'l', 'm', 'n', 'o', 'p', 'q', 'r', 's', 't', 'u', 'v', 'w', 'x', 'y', 'z']\n"
     ]
    }
   ],
   "source": [
    "small = [chr(i) for i in range(97,123)]\n",
    "print(small)"
   ]
  },
  {
   "cell_type": "code",
   "execution_count": 87,
   "metadata": {},
   "outputs": [
    {
     "name": "stdout",
     "output_type": "stream",
     "text": [
      "[0, 0, 0, 0, 0, 0, 0, 0, 0, 0, 0, 0, 0, 0, 0, 0, 0, 0, 0, 0, 0, 0, 0, 0, 0, 0]\n",
      "26\n"
     ]
    }
   ],
   "source": [
    "small_list = [0 for i in range(0,26)]\n",
    "print(small_list)\n",
    "print(len(small_list))"
   ]
  },
  {
   "cell_type": "code",
   "execution_count": 125,
   "metadata": {},
   "outputs": [
    {
     "name": "stdout",
     "output_type": "stream",
     "text": [
      "65\n",
      "97\n",
      "49\n",
      "['a', 'b', 'c', 'd', 'e', 'f', 'g', 'h', 'i', 'j', 'k', 'l', 'm', 'n', 'o', 'p', 'q', 'r', 's', 't', 'u', 'v', 'w', 'x', 'y', 'z']\n",
      "['A', 'B', 'C', 'D', 'E', 'F', 'G', 'H', 'I', 'J', 'K', 'L', 'M', 'N', 'O', 'P', 'Q', 'R', 'S', 'T', 'U', 'V', 'W', 'X', 'Y', 'Z']\n",
      "['0', '1', '2', '3', '4', '5', '6', '7', '8', '9']\n"
     ]
    }
   ],
   "source": [
    "print(ord(\"A\"))\n",
    "print(ord(\"a\"))\n",
    "print(ord(\"1\"))\n",
    "# for i in range(49,130):\n",
    "#     print(chr(i),end=\"\")\n",
    "small = [chr(i) for i in range(97,123)]\n",
    "print(small)\n",
    "big = [chr(i) for i in range(65,91)]\n",
    "print(big)\n",
    "digit = [chr(i) for i in range(48,58)]\n",
    "print(digit)"
   ]
  },
  {
   "cell_type": "markdown",
   "metadata": {},
   "source": [
    "# 字典\n"
   ]
  },
  {
   "cell_type": "code",
   "execution_count": 97,
   "metadata": {},
   "outputs": [
    {
     "name": "stdout",
     "output_type": "stream",
     "text": [
      "True\n",
      "{'b': 3, 'a': 1}\n",
      "3\n",
      "3\n",
      "{'b': 2, 'a': 1, 'c': 'c'}\n",
      "False\n"
     ]
    }
   ],
   "source": [
    "\n",
    "a={\"a\":1,\"b\":2}\n",
    "b={\"b\":2,\"a\":1}\n",
    "#####################乱序也是相等\n",
    "print(a==b)\n",
    "#####################修改\n",
    "if(\"b\" in b):\n",
    "    b[\"b\"]=(b[\"b\"]+1)\n",
    "print(b)\n",
    "#####################查找\n",
    "key1=\"b\"\n",
    "key2='b'\n",
    "print(b[key1])\n",
    "print(b[key2])\n",
    "#####################添加\n",
    "c={\"b\":2,\"a\":1}\n",
    "c[\"c\"]=\"c\"\n",
    "print(c)\n",
    "#####################乱序也是相等\n",
    "print(a==c)"
   ]
  },
  {
   "cell_type": "code",
   "execution_count": 98,
   "metadata": {},
   "outputs": [
    {
     "name": "stdout",
     "output_type": "stream",
     "text": [
      "[1, 2, 3, 4, 5, 6, 7, 8, 9, 10, 11, 12, 13, 14, 15, 16, 17, 18, 19, 20, 21, 22, 23, 24, 25, 26, 27, 28, 29, 30, 31, 32, 33, 34, 35, 36, 37, 38, 39, 40]\n"
     ]
    }
   ],
   "source": []
  },
  {
   "cell_type": "code",
   "execution_count": 103,
   "metadata": {},
   "outputs": [
    {
     "name": "stdout",
     "output_type": "stream",
     "text": [
      "0\n",
      "1\n"
     ]
    }
   ],
   "source": [
    "for i in range(0,2):\n",
    "    print(i)"
   ]
  },
  {
   "cell_type": "code",
   "execution_count": 2,
   "metadata": {},
   "outputs": [
    {
     "name": "stdout",
     "output_type": "stream",
     "text": [
      "[0, 0, 0]\n"
     ]
    }
   ],
   "source": [
    "s1=\"123\"\n",
    "dp=[0 for p in range(0,len(s1))]\n",
    "print(dp)"
   ]
  },
  {
   "cell_type": "code",
   "execution_count": 3,
   "metadata": {},
   "outputs": [
    {
     "name": "stdout",
     "output_type": "stream",
     "text": [
      "1\n",
      "2\n"
     ]
    }
   ],
   "source": [
    "for i in range(1,len(s1)):\n",
    "    print(i)"
   ]
  },
  {
   "cell_type": "code",
   "execution_count": 4,
   "metadata": {},
   "outputs": [
    {
     "name": "stdout",
     "output_type": "stream",
     "text": [
      "['', '', '']\n"
     ]
    }
   ],
   "source": [
    "res=[\"\" for p in range(0,len(s1))]\n",
    "print(res)"
   ]
  },
  {
   "cell_type": "markdown",
   "metadata": {},
   "source": [
    "# 二维空序列"
   ]
  },
  {
   "cell_type": "code",
   "execution_count": 5,
   "metadata": {},
   "outputs": [
    {
     "name": "stdout",
     "output_type": "stream",
     "text": [
      "[['', '', '', '', '', ''], ['', '', '', '', '', ''], ['', '', '', '', '', ''], ['', '', '', '', '', '']]\n"
     ]
    }
   ],
   "source": [
    "s1=\"1234\"\n",
    "s2=\"123456\"\n",
    "l1, l2 = len(s1), len(s2)\n",
    "dst = [[''] * l2 for _ in range(l1)]\n",
    "print(dst)"
   ]
  },
  {
   "cell_type": "markdown",
   "metadata": {},
   "source": [
    "# 素数"
   ]
  },
  {
   "cell_type": "code",
   "execution_count": 6,
   "metadata": {},
   "outputs": [
    {
     "name": "stdout",
     "output_type": "stream",
     "text": [
      "2\n"
     ]
    }
   ],
   "source": [
    "for i in range(2,3):\n",
    "    print(i)"
   ]
  },
  {
   "cell_type": "markdown",
   "metadata": {},
   "source": [
    "# 判断字母类型"
   ]
  },
  {
   "cell_type": "code",
   "execution_count": 7,
   "metadata": {},
   "outputs": [
    {
     "name": "stdout",
     "output_type": "stream",
     "text": [
      "True\n",
      "True\n",
      "True\n"
     ]
    }
   ],
   "source": [
    "a=\"1sS\"\n",
    "print(a[0].isdigit())\n",
    "print(a[1].islower())\n",
    "print(a[2].isupper())"
   ]
  },
  {
   "cell_type": "code",
   "execution_count": 14,
   "metadata": {},
   "outputs": [
    {
     "name": "stdout",
     "output_type": "stream",
     "text": [
      "11"
     ]
    }
   ],
   "source": [
    "print(1,end='')\n",
    "print(1,end='')"
   ]
  },
  {
   "cell_type": "markdown",
   "metadata": {},
   "source": [
    "# ？？？ 字符代表的16进制   (chr-16-2-16"
   ]
  },
  {
   "cell_type": "code",
   "execution_count": 17,
   "metadata": {},
   "outputs": [
    {
     "name": "stdout",
     "output_type": "stream",
     "text": [
      "5"
     ]
    }
   ],
   "source": [
    "# i代表字符\n",
    "try:\n",
    "    #16-2\n",
    "    b=bin(int(i,16))[2:]\n",
    "    #16-2\n",
    "    #二进制补位\n",
    "    b = '0'*(4-len(b)) + b if len(b)<4 else b\n",
    "    b = b[::-1]\n",
    "    #2-16\n",
    "    b = hex(int(b, 2))[2:].upper()\n",
    "    print(b,end='')\n",
    "except:\n",
    "    print(i,end='')"
   ]
  },
  {
   "cell_type": "markdown",
   "metadata": {},
   "source": [
    "# print( end)"
   ]
  },
  {
   "cell_type": "code",
   "execution_count": 37,
   "metadata": {},
   "outputs": [
    {
     "name": "stdout",
     "output_type": "stream",
     "text": [
      "1 22\n",
      "2\n"
     ]
    }
   ],
   "source": [
    "print(\"1\",end=\" \")\n",
    "print(\"2\",end=\"\")\n",
    "print(\"2\",end=\"\\n\")\n",
    "print(\"2\",end=\"\\n\")"
   ]
  },
  {
   "cell_type": "markdown",
   "metadata": {},
   "source": [
    "# 进制"
   ]
  },
  {
   "cell_type": "markdown",
   "metadata": {},
   "source": [
    "## 字符串类型的二进制转 int"
   ]
  },
  {
   "cell_type": "code",
   "execution_count": 9,
   "metadata": {},
   "outputs": [
    {
     "name": "stdout",
     "output_type": "stream",
     "text": [
      "3\n"
     ]
    }
   ],
   "source": [
    "#二进制\n",
    "aa = \"0b11\"\n",
    "print(int(aa, 2))"
   ]
  },
  {
   "cell_type": "markdown",
   "metadata": {},
   "source": [
    "## Int转二进制"
   ]
  },
  {
   "cell_type": "code",
   "execution_count": 10,
   "metadata": {},
   "outputs": [
    {
     "name": "stdout",
     "output_type": "stream",
     "text": [
      "0b1010\n"
     ]
    }
   ],
   "source": [
    "a=10\n",
    "a=bin(a)\n",
    "print(a)"
   ]
  },
  {
   "cell_type": "markdown",
   "metadata": {},
   "source": [
    "## 二进制数转二进制字符串"
   ]
  },
  {
   "cell_type": "code",
   "execution_count": 16,
   "metadata": {},
   "outputs": [
    {
     "name": "stdout",
     "output_type": "stream",
     "text": [
      "0b1010\n",
      "0b1010\n"
     ]
    }
   ],
   "source": [
    "a=10\n",
    "a=bin(a)\n",
    "a=str(a)\n",
    "print(a)"
   ]
  },
  {
   "cell_type": "code",
   "execution_count": 28,
   "metadata": {},
   "outputs": [
    {
     "name": "stdout",
     "output_type": "stream",
     "text": [
      "0\n"
     ]
    }
   ],
   "source": [
    "a=[12,28,83,4,25,26,25,2,25,25,25,12]\n",
    "print(sum(a[:0]))"
   ]
  },
  {
   "cell_type": "markdown",
   "metadata": {},
   "source": [
    "# 二进制本身就是字符串"
   ]
  },
  {
   "cell_type": "code",
   "execution_count": 5,
   "metadata": {},
   "outputs": [],
   "source": [
    "ii=10\n",
    "b=bin(ii)[2:]\n",
    "b = '0'*(8-len(b)) + b if len(b)<8 else b\n"
   ]
  },
  {
   "cell_type": "code",
   "execution_count": 30,
   "metadata": {},
   "outputs": [],
   "source": [
    "import sys\n",
    "for line in sys.stdin:\n",
    "    a = line.split()\n",
    "    print(int(a[0]) + int(a[1]))"
   ]
  },
  {
   "cell_type": "code",
   "execution_count": 6,
   "metadata": {},
   "outputs": [
    {
     "name": "stdout",
     "output_type": "stream",
     "text": [
      "1010\n"
     ]
    },
    {
     "ename": "TypeError",
     "evalue": "unsupported operand type(s) for +: 'int' and 'str'",
     "output_type": "error",
     "traceback": [
      "\u001b[1;31m---------------------------------------------------------------------------\u001b[0m",
      "\u001b[1;31mTypeError\u001b[0m                                 Traceback (most recent call last)",
      "\u001b[1;32m~\\AppData\\Local\\Temp\\ipykernel_19360\\1125135898.py\u001b[0m in \u001b[0;36m<module>\u001b[1;34m\u001b[0m\n\u001b[0;32m      3\u001b[0m \u001b[0mprint\u001b[0m\u001b[1;33m(\u001b[0m\u001b[0mb\u001b[0m\u001b[1;33m)\u001b[0m\u001b[1;33m\u001b[0m\u001b[1;33m\u001b[0m\u001b[0m\n\u001b[0;32m      4\u001b[0m \u001b[0mc\u001b[0m\u001b[1;33m=\u001b[0m\u001b[1;36m0\u001b[0m\u001b[1;33m\u001b[0m\u001b[1;33m\u001b[0m\u001b[0m\n\u001b[1;32m----> 5\u001b[1;33m \u001b[0mc\u001b[0m\u001b[1;33m=\u001b[0m\u001b[0mc\u001b[0m\u001b[1;33m+\u001b[0m\u001b[0mb\u001b[0m\u001b[1;33m\u001b[0m\u001b[1;33m\u001b[0m\u001b[0m\n\u001b[0m\u001b[0;32m      6\u001b[0m \u001b[0mprint\u001b[0m\u001b[1;33m(\u001b[0m\u001b[0mc\u001b[0m\u001b[1;33m)\u001b[0m\u001b[1;33m\u001b[0m\u001b[1;33m\u001b[0m\u001b[0m\n\u001b[0;32m      7\u001b[0m \u001b[0mprint\u001b[0m\u001b[1;33m(\u001b[0m\u001b[0mstr\u001b[0m\u001b[1;33m(\u001b[0m\u001b[0mb\u001b[0m\u001b[1;33m)\u001b[0m\u001b[1;33m)\u001b[0m\u001b[1;33m\u001b[0m\u001b[1;33m\u001b[0m\u001b[0m\n",
      "\u001b[1;31mTypeError\u001b[0m: unsupported operand type(s) for +: 'int' and 'str'"
     ]
    }
   ],
   "source": [
    "ii=10\n",
    "b=bin(ii)[2:]\n",
    "print(b)\n",
    "c=0\n",
    "c=c+b\n",
    "print(c)\n",
    "print(str(b))\n",
    "print( (\"0\" in str(b)))"
   ]
  },
  {
   "cell_type": "markdown",
   "metadata": {},
   "source": [
    "# python 字符对应的asic码"
   ]
  },
  {
   "cell_type": "code",
   "execution_count": 32,
   "metadata": {},
   "outputs": [
    {
     "name": "stdout",
     "output_type": "stream",
     "text": [
      "['1', '2', '3', 'a', 'b']\n"
     ]
    }
   ],
   "source": [
    "ii=\"ab123\"\n",
    "ii=sorted(ii,key=ord)\n",
    "print(ii)"
   ]
  },
  {
   "cell_type": "code",
   "execution_count": 38,
   "metadata": {},
   "outputs": [
    {
     "name": "stdout",
     "output_type": "stream",
     "text": [
      "4\n",
      "5\n"
     ]
    }
   ],
   "source": [
    "for i in range(4,5+1):\n",
    "    print(i)"
   ]
  },
  {
   "cell_type": "markdown",
   "metadata": {},
   "source": [
    "# 错误写法"
   ]
  },
  {
   "cell_type": "code",
   "execution_count": 39,
   "metadata": {},
   "outputs": [
    {
     "name": "stdout",
     "output_type": "stream",
     "text": [
      "[0, 0, 0, 1, 0]\n",
      "[0, 0, 0, 1, 0]\n",
      "[0, 0, 0, 1, 0]\n"
     ]
    }
   ],
   "source": [
    "a2=a1=an=[0 for _ in range(5)]\n",
    "a2[3]=1\n",
    "print(an)\n",
    "print(a1)\n",
    "print(a2)"
   ]
  },
  {
   "cell_type": "markdown",
   "metadata": {},
   "source": [
    "# ip 检验"
   ]
  },
  {
   "cell_type": "code",
   "execution_count": null,
   "metadata": {},
   "outputs": [],
   "source": [
    "good_list=list(range(0,256))\n",
    "good_ip_list=list(map(str,good_list))\n",
    "\n",
    "def check_ip(ip):\n",
    "    # 数字对不对\n",
    "    ips=ip.split(\".\")\n",
    "    for p in ips:\n",
    "        if(str(p) in good_ip_list):\n",
    "            pass\n",
    "        else:\n",
    "            return False\n",
    "    return True\n",
    "def good_four_to_b_str(pp):\n",
    "    pp=pp.split(\".\")\n",
    "    res=\"\"\n",
    "    for p in pp:\n",
    "        tmp=int(p)\n",
    "        tmp=bin(tmp)[2:]\n",
    "        tmp = '0'*(8-len(tmp)) + tmp if len(tmp)<8 else tmp\n",
    "        res=res+str(tmp)\n",
    "    return res\n",
    "def check_mask(mask):\n",
    "    # 数字对不对\n",
    "    masks=mask.split(\".\")\n",
    "    for m in masks:\n",
    "        if(m in good_ip_list):\n",
    "            pass\n",
    "        else:\n",
    "            return False\n",
    "        \n",
    "    # 1100对不对\n",
    "    b_str=good_four_to_b_str(mask)\n",
    "    if((\"0\" in b_str) and (\"1\" in b_str)):\n",
    "        flag1=b_str.rfind(\"1\")\n",
    "        flag0=b_str.find(\"0\")\n",
    "        if(flag0==(flag1+1)):\n",
    "            return True\n",
    "        else:\n",
    "            return False\n",
    "    else:\n",
    "        return False"
   ]
  },
  {
   "cell_type": "markdown",
   "metadata": {},
   "source": [
    "# 一个列表根据另一个列表排序"
   ]
  },
  {
   "cell_type": "code",
   "execution_count": 32,
   "metadata": {},
   "outputs": [
    {
     "name": "stdout",
     "output_type": "stream",
     "text": [
      "(1, 2, 3, 3, 5)\n",
      "('c', 'b', 'fff', 'ggg', 'e')\n"
     ]
    }
   ],
   "source": [
    "# 按照a的顺排序规则同时排序a,b\n",
    "\n",
    "# a=[5,3,3,2,1]\n",
    "# b=[8,8,9999,4,5]\n",
    "# c=[\"c\",\"b\",\"d\",\"fff\",\"e\",\"f\"]\n",
    "\n",
    "# a=[5,3,3,2,1]\n",
    "# c=[\"c\",\"b\",\"d\",\"fff\",\"e\",\"f\"]\n",
    "\n",
    "a=[1,2,3,3,5]\n",
    "c=[\"c\",\"b\",\"ggg\",\"fff\",\"e\",\"f\"]\n",
    "a, c = zip(*sorted(zip(a, c)))\n",
    "print(a)\n",
    "print(c)"
   ]
  },
  {
   "cell_type": "markdown",
   "metadata": {},
   "source": []
  },
  {
   "cell_type": "code",
   "execution_count": 124,
   "metadata": {},
   "outputs": [
    {
     "name": "stdout",
     "output_type": "stream",
     "text": [
      "['b', 'c', 'd', 'a']\n",
      "[3, 3, 3, 4]\n"
     ]
    }
   ],
   "source": []
  },
  {
   "cell_type": "code",
   "execution_count": 75,
   "metadata": {},
   "outputs": [
    {
     "name": "stdout",
     "output_type": "stream",
     "text": [
      "15\n"
     ]
    }
   ],
   "source": [
    "a=[1,2,3,4,5]\n",
    "i=5\n",
    "for j in range(0,len(a)-i+1):\n",
    "    print(sum(a[j:(j+i)]))"
   ]
  },
  {
   "cell_type": "code",
   "execution_count": 6,
   "metadata": {},
   "outputs": [
    {
     "name": "stdout",
     "output_type": "stream",
     "text": [
      "12 34\n"
     ]
    }
   ],
   "source": [
    "node=\"1234\"\n",
    "# node=\"234\"\n",
    "# node=\"2\"\n",
    "t=\"2\"\n",
    "t_index=node.find(t)\n",
    "left=node[0:t_index+1]\n",
    "right=node[t_index+1:]\n",
    "print(left,right)"
   ]
  },
  {
   "cell_type": "code",
   "execution_count": 7,
   "metadata": {},
   "outputs": [
    {
     "name": "stdout",
     "output_type": "stream",
     "text": [
      "2 34\n"
     ]
    }
   ],
   "source": [
    "node=\"234\"\n",
    "# node=\"2\"\n",
    "t=\"2\"\n",
    "t_index=node.find(t)\n",
    "left=node[0:t_index+1]\n",
    "right=node[t_index+1:]\n",
    "print(left,right)"
   ]
  },
  {
   "cell_type": "markdown",
   "metadata": {},
   "source": [
    "# 切割字符串"
   ]
  },
  {
   "cell_type": "code",
   "execution_count": 14,
   "metadata": {},
   "outputs": [
    {
     "name": "stdout",
     "output_type": "stream",
     "text": [
      "('2', '3')\n"
     ]
    }
   ],
   "source": [
    "def cut(s, p):\n",
    "    pindex = s.find(p)\n",
    "    left = s[0 : pindex + 1]\n",
    "    right = s[pindex + 1 :]\n",
    "    return left, right\n",
    "\n",
    "node=\"23\"\n",
    "t=\"2\"\n",
    "print(cut(node,t))"
   ]
  },
  {
   "cell_type": "code",
   "execution_count": 19,
   "metadata": {},
   "outputs": [
    {
     "name": "stdout",
     "output_type": "stream",
     "text": [
      "[1, 3, 5, 2, 4, 6, 100]\n"
     ]
    }
   ],
   "source": [
    "a=[1,3,5]\n",
    "b=[2,4,6]\n",
    "c=100\n",
    "print(a+b+[c])"
   ]
  },
  {
   "cell_type": "code",
   "execution_count": 21,
   "metadata": {},
   "outputs": [
    {
     "name": "stdout",
     "output_type": "stream",
     "text": [
      "25.0\n"
     ]
    }
   ],
   "source": [
    "# a=\"3+2*{1+2*[-4/(8-6)+7]}\"\n",
    "# a=list(a)\n",
    "# for p in a:\n",
    "#     if(p=\"{\"):\n",
    "print(3+2*(1+2*(-4/(8-6)+7)))"
   ]
  },
  {
   "cell_type": "markdown",
   "metadata": {},
   "source": [
    "# 符号两边的数字"
   ]
  },
  {
   "cell_type": "code",
   "execution_count": 5,
   "metadata": {},
   "outputs": [
    {
     "name": "stdout",
     "output_type": "stream",
     "text": [
      "('19', '80', 0, 4)\n",
      "('1', '8', 0, 2)\n",
      "('1', '3', 0, 2)\n",
      "('3', '2', 2, 4)\n",
      "('-1', '3', 0, 3)\n"
     ]
    }
   ],
   "source": [
    "\n",
    "def isfuhao(s,i):\n",
    "    ll=\"+-*/\"\n",
    "    if(s[i] in ll):\n",
    "        return True\n",
    "    else:\n",
    "        return False\n",
    "def get_near_num(s,index):\n",
    "    left=[]\n",
    "    right=[]\n",
    "    l_index=0\n",
    "    r_index=0\n",
    "    tmp=index\n",
    "    while(1):\n",
    "        tmp=tmp-1\n",
    "        if(isfuhao(s,tmp)):\n",
    "            left=s[tmp+1:index]\n",
    "            l_index=tmp+1\n",
    "            break\n",
    "        if(tmp==0):\n",
    "            left=s[0:index]\n",
    "            l_index=tmp\n",
    "            break\n",
    "    if(tmp==0 and s[0]==\"-\"):\n",
    "        left=\"-\"+left\n",
    "        l_index=tmp\n",
    "    tmp=index\n",
    "    while(1):\n",
    "        tmp=tmp+1\n",
    "        if(tmp==(len(s)-1)):\n",
    "            right=s[index+1:]\n",
    "            r_index=tmp\n",
    "            break\n",
    "        if(isfuhao(s,tmp)):\n",
    "            right=s[index+1:tmp]\n",
    "            r_index=tmp-1\n",
    "            break\n",
    "        \n",
    "    return(left,right,l_index,r_index)\n",
    "\n",
    "t=\"19+80\"\n",
    "print(get_near_num(t,2))\n",
    "\n",
    "t=\"1/8\"\n",
    "print(get_near_num(t,1))\n",
    "\n",
    "t=\"1+3*2\"\n",
    "print(get_near_num(t,1))\n",
    "\n",
    "t=\"1+3*2+2\"\n",
    "print(get_near_num(t,3))\n",
    "       \n",
    "t=\"-1+3*2+2\"\n",
    "print(get_near_num(t,2))"
   ]
  },
  {
   "cell_type": "markdown",
   "metadata": {},
   "source": [
    "# 替换指定位置的str"
   ]
  },
  {
   "cell_type": "code",
   "execution_count": 71,
   "metadata": {},
   "outputs": [
    {
     "name": "stdout",
     "output_type": "stream",
     "text": [
      "12895\n"
     ]
    }
   ],
   "source": [
    "def replace_str(s,t,l_index,r_index):\n",
    "    s=list(s)\n",
    "    sl=s[0:l_index]\n",
    "    sr=s[r_index+1:]\n",
    "    s=sl+list(t)+sr\n",
    "    return \"\".join(s)\n",
    "\n",
    "s=\"12345\"\n",
    "t=\"89\"\n",
    "print(replace_str(s,t,2,3))"
   ]
  },
  {
   "cell_type": "code",
   "execution_count": 8,
   "metadata": {
    "tags": []
   },
   "outputs": [
    {
     "name": "stdout",
     "output_type": "stream",
     "text": [
      "5-3+9*6*(6-10-2)\n",
      "cacu_kuohao 5-3+9*6*(6-10-2)\n",
      "s 6-10-2\n",
      "- 6 10 0 3\n",
      "s -4-2\n",
      "- -4 2 0 3\n",
      "s 5-3+9*6*-6\n",
      "* 9 6 4 6\n",
      "s 5-3+54*-6\n",
      "* 54  4 6\n"
     ]
    },
    {
     "ename": "ValueError",
     "evalue": "invalid literal for int() with base 10: ''",
     "output_type": "error",
     "traceback": [
      "\u001b[1;31m---------------------------------------------------------------------------\u001b[0m",
      "\u001b[1;31mValueError\u001b[0m                                Traceback (most recent call last)",
      "\u001b[1;32m<ipython-input-8-04387faf1010>\u001b[0m in \u001b[0;36m<module>\u001b[1;34m\u001b[0m\n\u001b[0;32m    159\u001b[0m \u001b[1;33m\u001b[0m\u001b[0m\n\u001b[0;32m    160\u001b[0m \u001b[1;33m\u001b[0m\u001b[0m\n\u001b[1;32m--> 161\u001b[1;33m \u001b[0mprint\u001b[0m\u001b[1;33m(\u001b[0m\u001b[0mrun\u001b[0m\u001b[1;33m(\u001b[0m\u001b[0mii\u001b[0m\u001b[1;33m)\u001b[0m\u001b[1;33m)\u001b[0m\u001b[1;33m\u001b[0m\u001b[1;33m\u001b[0m\u001b[0m\n\u001b[0m",
      "\u001b[1;32m<ipython-input-8-04387faf1010>\u001b[0m in \u001b[0;36mrun\u001b[1;34m(s)\u001b[0m\n\u001b[0;32m    155\u001b[0m             \u001b[1;32mreturn\u001b[0m \u001b[0ms\u001b[0m\u001b[1;33m\u001b[0m\u001b[1;33m\u001b[0m\u001b[0m\n\u001b[0;32m    156\u001b[0m         \u001b[1;32melse\u001b[0m\u001b[1;33m:\u001b[0m\u001b[1;33m\u001b[0m\u001b[1;33m\u001b[0m\u001b[0m\n\u001b[1;32m--> 157\u001b[1;33m             \u001b[0ms\u001b[0m\u001b[1;33m=\u001b[0m\u001b[0mcacu_nokuohao\u001b[0m\u001b[1;33m(\u001b[0m\u001b[0ms\u001b[0m\u001b[1;33m)\u001b[0m\u001b[1;33m\u001b[0m\u001b[1;33m\u001b[0m\u001b[0m\n\u001b[0m\u001b[0;32m    158\u001b[0m             \u001b[1;32mreturn\u001b[0m \u001b[0ms\u001b[0m\u001b[1;33m\u001b[0m\u001b[1;33m\u001b[0m\u001b[0m\n\u001b[0;32m    159\u001b[0m \u001b[1;33m\u001b[0m\u001b[0m\n",
      "\u001b[1;32m<ipython-input-8-04387faf1010>\u001b[0m in \u001b[0;36mcacu_nokuohao\u001b[1;34m(s)\u001b[0m\n\u001b[0;32m    127\u001b[0m             \u001b[1;32mbreak\u001b[0m\u001b[1;33m\u001b[0m\u001b[1;33m\u001b[0m\u001b[0m\n\u001b[0;32m    128\u001b[0m         \u001b[1;32melse\u001b[0m\u001b[1;33m:\u001b[0m\u001b[1;33m\u001b[0m\u001b[1;33m\u001b[0m\u001b[0m\n\u001b[1;32m--> 129\u001b[1;33m             \u001b[0ms\u001b[0m\u001b[1;33m=\u001b[0m\u001b[0mdel_once\u001b[0m\u001b[1;33m(\u001b[0m\u001b[0ms\u001b[0m\u001b[1;33m)\u001b[0m\u001b[1;33m\u001b[0m\u001b[1;33m\u001b[0m\u001b[0m\n\u001b[0m\u001b[0;32m    130\u001b[0m     \u001b[1;32mreturn\u001b[0m \u001b[0ms\u001b[0m\u001b[1;33m\u001b[0m\u001b[1;33m\u001b[0m\u001b[0m\n\u001b[0;32m    131\u001b[0m \u001b[1;31m# cacu_nokuohao(ii)\u001b[0m\u001b[1;33m\u001b[0m\u001b[1;33m\u001b[0m\u001b[1;33m\u001b[0m\u001b[0m\n",
      "\u001b[1;32m<ipython-input-8-04387faf1010>\u001b[0m in \u001b[0;36mdel_once\u001b[1;34m(s)\u001b[0m\n\u001b[0;32m     90\u001b[0m             \u001b[0mleft\u001b[0m\u001b[1;33m,\u001b[0m\u001b[0mright\u001b[0m\u001b[1;33m,\u001b[0m\u001b[0mli\u001b[0m\u001b[1;33m,\u001b[0m\u001b[0mri\u001b[0m\u001b[1;33m=\u001b[0m\u001b[0mget_near_num\u001b[0m\u001b[1;33m(\u001b[0m\u001b[0ms\u001b[0m\u001b[1;33m,\u001b[0m \u001b[0mi\u001b[0m\u001b[1;33m)\u001b[0m\u001b[1;33m\u001b[0m\u001b[1;33m\u001b[0m\u001b[0m\n\u001b[0;32m     91\u001b[0m             \u001b[0mprint\u001b[0m\u001b[1;33m(\u001b[0m\u001b[1;34m\"*\"\u001b[0m\u001b[1;33m,\u001b[0m\u001b[0mleft\u001b[0m\u001b[1;33m,\u001b[0m\u001b[0mright\u001b[0m\u001b[1;33m,\u001b[0m\u001b[0mli\u001b[0m\u001b[1;33m,\u001b[0m\u001b[0mri\u001b[0m\u001b[1;33m)\u001b[0m\u001b[1;33m\u001b[0m\u001b[1;33m\u001b[0m\u001b[0m\n\u001b[1;32m---> 92\u001b[1;33m             \u001b[0monce_result\u001b[0m\u001b[1;33m=\u001b[0m\u001b[0mint\u001b[0m\u001b[1;33m(\u001b[0m\u001b[0mleft\u001b[0m\u001b[1;33m)\u001b[0m\u001b[1;33m*\u001b[0m\u001b[0mint\u001b[0m\u001b[1;33m(\u001b[0m\u001b[0mright\u001b[0m\u001b[1;33m)\u001b[0m\u001b[1;33m\u001b[0m\u001b[1;33m\u001b[0m\u001b[0m\n\u001b[0m\u001b[0;32m     93\u001b[0m             \u001b[0monce_result\u001b[0m\u001b[1;33m=\u001b[0m\u001b[0mstr\u001b[0m\u001b[1;33m(\u001b[0m\u001b[0mint\u001b[0m\u001b[1;33m(\u001b[0m\u001b[0monce_result\u001b[0m\u001b[1;33m)\u001b[0m\u001b[1;33m)\u001b[0m\u001b[1;33m\u001b[0m\u001b[1;33m\u001b[0m\u001b[0m\n\u001b[0;32m     94\u001b[0m             \u001b[0ms\u001b[0m\u001b[1;33m=\u001b[0m\u001b[0mreplace_str\u001b[0m\u001b[1;33m(\u001b[0m\u001b[0ms\u001b[0m\u001b[1;33m,\u001b[0m \u001b[0monce_result\u001b[0m\u001b[1;33m,\u001b[0m \u001b[0mli\u001b[0m\u001b[1;33m,\u001b[0m\u001b[0mri\u001b[0m\u001b[1;33m)\u001b[0m\u001b[1;33m\u001b[0m\u001b[1;33m\u001b[0m\u001b[0m\n",
      "\u001b[1;31mValueError\u001b[0m: invalid literal for int() with base 10: ''"
     ]
    }
   ],
   "source": [
    "# ii=\"3+2*(1+2*(-4/(8-6)+7))\"\n",
    "ii=\"5-3+9*6*(6-10-2)\"\n",
    "for i in range(len(ii)):\n",
    "    if(ii[i]==\"{\" or ii[i]==\"[\" ):\n",
    "        ii[i]=\"(\"\n",
    "    else:\n",
    "        if(ii[i]==\"}\" or ii[i]==\"]\" ):\n",
    "            ii[i]=\")\"\n",
    "print(ii)\n",
    "def isfuhao(s,i):\n",
    "    tmp=\"()+-*/\"\n",
    "    if(s[i] in tmp):\n",
    "        return True\n",
    "    else:\n",
    "        return False\n",
    "def isfuhao(s,i):\n",
    "    ll=\"+-*/\"\n",
    "    print(s[i])\n",
    "    if(s[i] in ll):\n",
    "        return True\n",
    "    else:\n",
    "        return False\n",
    "def isfuhao(s,i):\n",
    "    ll=\"+-*/\"\n",
    "    if(s[i] in ll):\n",
    "        return True\n",
    "    else:\n",
    "        return False\n",
    "def get_near_num(s,index):\n",
    "    left=[]\n",
    "    right=[]\n",
    "    l_index=0\n",
    "    r_index=0\n",
    "    tmp=index\n",
    "    while(1):\n",
    "        tmp=tmp-1\n",
    "        if(isfuhao(s,tmp)):\n",
    "            left=s[tmp+1:index]\n",
    "            l_index=tmp+1\n",
    "            break\n",
    "        if(tmp==0):\n",
    "            left=s[0:index]\n",
    "            l_index=tmp\n",
    "            break\n",
    "    if(tmp==0 and s[0]==\"-\"):\n",
    "        left=\"-\"+left\n",
    "        l_index=tmp\n",
    "    tmp=index\n",
    "    while(1):\n",
    "        tmp=tmp+1\n",
    "        if(tmp==(len(s)-1)):\n",
    "            right=s[index+1:]\n",
    "            r_index=tmp\n",
    "            break\n",
    "        if(isfuhao(s,tmp)):\n",
    "            right=s[index+1:tmp]\n",
    "            r_index=tmp-1\n",
    "            break\n",
    "        \n",
    "    return(left,right,l_index,r_index)\n",
    "def replace_str(s,t,l_index,r_index):\n",
    "    s=list(s)\n",
    "    sl=s[0:l_index]\n",
    "    sr=s[r_index+1:]\n",
    "    s=sl+list(t)+sr\n",
    "    return \"\".join(s)\n",
    "# a=\"a\"\n",
    "# a.isdigit()\n",
    "def check_all_digit(s):\n",
    "    if(s[0]==\"-\"):\n",
    "        for p in s[1:]:\n",
    "            if(p.isdigit()):\n",
    "                pass\n",
    "            else:\n",
    "                return False\n",
    "    else:\n",
    "        for p in s:\n",
    "            if(p.isdigit()):\n",
    "                pass\n",
    "            else:\n",
    "                return False\n",
    "    return True\n",
    "\n",
    "def del_once(s):\n",
    "    # if(s[0]==\"-\"):\n",
    "    #     s=\"0\"+s\n",
    "    for i in range(1,len(s)):\n",
    "        if(s[i]==\"*\"):\n",
    "            print(\"s\",s)\n",
    "            left,right,li,ri=get_near_num(s, i)\n",
    "            print(\"*\",left,right,li,ri)\n",
    "            once_result=int(left)*int(right)\n",
    "            once_result=str(int(once_result))\n",
    "            s=replace_str(s, once_result, li,ri)\n",
    "            return s\n",
    "        elif(s[i]==\"/\"):\n",
    "            print(\"s\",s)\n",
    "            left,right,li,ri=get_near_num(s, i)\n",
    "            print(\"/\",left,right,li,ri)\n",
    "            once_result=int(left)/int(right)\n",
    "            once_result=str(int(once_result))\n",
    "            s=replace_str(s, once_result, li,ri)\n",
    "            return s\n",
    "            \n",
    "    for i in range(1,len(s)):\n",
    "        if(s[i]==\"+\"):\n",
    "            print(\"s\",s)\n",
    "            left,right,li,ri=get_near_num(s, i)\n",
    "            print(\"+\",left,right,li,ri)\n",
    "            once_result=int(left)+int(right)\n",
    "            once_result=str(int(once_result))\n",
    "            s=replace_str(s, once_result, li,ri)\n",
    "            return s\n",
    "            \n",
    "        elif(s[i]==\"-\"):\n",
    "            print(\"s\",s)\n",
    "            left,right,li,ri=get_near_num(s, i)\n",
    "            print(\"-\",left,right,li,ri)\n",
    "            once_result=int(left)-int(right)\n",
    "            once_result=str(int(once_result))\n",
    "            s=replace_str(s, once_result, li,ri)\n",
    "            return s\n",
    "            \n",
    "def cacu_nokuohao(s):\n",
    "    while(1):\n",
    "        if(check_all_digit(s)):\n",
    "            break\n",
    "        else:\n",
    "            s=del_once(s)\n",
    "    return s\n",
    "# cacu_nokuohao(ii)\n",
    "\n",
    "def cacu_kuohao(s):\n",
    "    if(\"(\" in s):\n",
    "        l=s.rfind(\"(\")\n",
    "        r=s.find(\")\")\n",
    "        no_fuhao_str=s[l+1:r]\n",
    "        tmp_res=cacu_nokuohao(no_fuhao_str)\n",
    "        #替换\n",
    "        s=replace_str(s,tmp_res,l,r)\n",
    "        return s\n",
    "    \n",
    "def run(s):\n",
    "    if(check_all_digit(s)):\n",
    "        return s\n",
    "    else:\n",
    "        while(1):\n",
    "            if( (\"(\" in s)):\n",
    "                print(\"cacu_kuohao\",s)\n",
    "                s=cacu_kuohao(s)\n",
    "            else:\n",
    "                break\n",
    "\n",
    "        if(check_all_digit(s)):\n",
    "            return s\n",
    "        else:\n",
    "            s=cacu_nokuohao(s)\n",
    "            return s\n",
    "\n",
    "\n",
    "print(run(ii))"
   ]
  },
  {
   "cell_type": "code",
   "execution_count": 7,
   "metadata": {},
   "outputs": [
    {
     "name": "stdout",
     "output_type": "stream",
     "text": [
      "s 8-6\n",
      "- 8 6 0 2\n",
      "3+2*(1+2*(-4/2+7))\n"
     ]
    }
   ],
   "source": [
    "a=\"3+2*(1+2*(-4/(8-6)+7))\"\n",
    "def cacu_kuohao(s):\n",
    "    if(\"(\" in s):\n",
    "        l=s.rfind(\"(\")\n",
    "        r=s.find(\")\")\n",
    "        no_fuhao_str=s[l+1:r]\n",
    "        tmp_res=cacu_nokuohao(no_fuhao_str)\n",
    "        #替换\n",
    "        s=replace_str(s,tmp_res,l,r)\n",
    "        return s\n",
    "print(cacu_kuohao(a))"
   ]
  },
  {
   "cell_type": "code",
   "execution_count": 14,
   "metadata": {},
   "outputs": [
    {
     "name": "stdout",
     "output_type": "stream",
     "text": [
      "True\n"
     ]
    }
   ],
   "source": [
    "s=\"3+2*(1+2*(-4/(8-6)+7))\"\n",
    "print(\"(\" in s)"
   ]
  },
  {
   "cell_type": "code",
   "execution_count": 11,
   "metadata": {},
   "outputs": [
    {
     "name": "stdout",
     "output_type": "stream",
     "text": [
      "63\n"
     ]
    }
   ],
   "source": [
    "a=\"CCCAAGTCTTCCAATCGTGCCCCCCAATTGAGTCTCGCTCCCCAGGTGAGATACATCAGAAGC\"\n",
    "print(len(a))\n",
    "for i in range(0,0):\n",
    "    print(i)"
   ]
  },
  {
   "cell_type": "code",
   "execution_count": 18,
   "metadata": {
    "collapsed": true,
    "jupyter": {
     "outputs_hidden": true
    },
    "tags": []
   },
   "outputs": [
    {
     "name": "stdin",
     "output_type": "stream",
     "text": [
      " 83\n",
      " UUDUDDDDUDUUDDDDUDD\n"
     ]
    },
    {
     "name": "stdout",
     "output_type": "stream",
     "text": [
      "****************************************************************************************************\n",
      "↑:\n",
      "80 81 82 83\n",
      "this_flag 83\n",
      "****************************************************************************************************\n",
      "↑:\n",
      "80 81 82 83\n",
      "this_flag 82\n",
      "****************************************************************************************************\n",
      "↓:\n",
      "80 81 82 83\n",
      "this_flag 83\n",
      "****************************************************************************************************\n",
      "↑:\n",
      "80 81 82 83\n",
      "this_flag 82\n",
      "****************************************************************************************************\n",
      "↓:\n",
      "80 81 82 83\n",
      "this_flag 83\n",
      "****************************************************************************************************\n",
      "↓:\n",
      "1 2 3 4\n",
      "this_flag 1\n",
      "****************************************************************************************************\n",
      "↓:\n",
      "1 2 3 4\n",
      "this_flag 2\n",
      "****************************************************************************************************\n",
      "↓:\n",
      "1 2 3 4\n",
      "this_flag 3\n",
      "****************************************************************************************************\n",
      "↑:\n",
      "1 2 3 4\n",
      "this_flag 2\n",
      "****************************************************************************************************\n",
      "↓:\n",
      "1 2 3 4\n",
      "this_flag 3\n",
      "****************************************************************************************************\n",
      "↑:\n",
      "1 2 3 4\n",
      "this_flag 2\n",
      "****************************************************************************************************\n",
      "↑:\n",
      "1 2 3 4\n",
      "this_flag 1\n",
      "****************************************************************************************************\n",
      "↓:\n",
      "1 2 3 4\n",
      "this_flag 2\n",
      "****************************************************************************************************\n",
      "↓:\n",
      "1 2 3 4\n",
      "this_flag 3\n",
      "****************************************************************************************************\n",
      "↓:\n",
      "1 2 3 4\n",
      "this_flag 4\n",
      "****************************************************************************************************\n",
      "↓:\n",
      "2 3 4 5\n",
      "this_flag 5\n",
      "****************************************************************************************************\n",
      "↑:\n",
      "2 3 4 5\n",
      "this_flag 4\n",
      "****************************************************************************************************\n",
      "↓:\n",
      "2 3 4 5\n",
      "this_flag 5\n",
      "****************************************************************************************************\n",
      "↓:\n",
      "3 4 5 6\n",
      "this_flag 6\n"
     ]
    }
   ],
   "source": [
    "n=int(input())\n",
    "ii=input()\n",
    "if(n==1):\n",
    "    print(1)\n",
    "    print(1)\n",
    "elif(1<n<5):\n",
    "    this_flag=1\n",
    "    for p in ii:\n",
    "        if(p==\"U\"):\n",
    "            if(this_flag==1):\n",
    "                this_flag=n\n",
    "            else:\n",
    "                this_flag=this_flag-1\n",
    "        if(p==\"D\"):\n",
    "            if(this_flag==n):\n",
    "                this_flag==1\n",
    "            else:\n",
    "                this_flag=this_flag+1\n",
    "    gequ_list=list(range(1,n+1))\n",
    "    for p in gequ_list:\n",
    "        print(p,end=\" \")\n",
    "    print(this_flag)\n",
    "elif(n>5):\n",
    "    this_flag=1\n",
    "    k_start_num=1\n",
    "    k_end_num=k_start_num+3\n",
    "    for p in ii:\n",
    "        if(p==\"U\"):\n",
    "            if(this_flag==1):\n",
    "                #歌曲\n",
    "                this_flag=n\n",
    "                #框\n",
    "                k_end_num=n\n",
    "                k_start_num=k_end_num-3\n",
    "            else:\n",
    "                #框\n",
    "                if(this_flag in [k_start_num+1,k_start_num+2,k_start_num+3]):\n",
    "                    pass\n",
    "                else:\n",
    "                    k_start_num=k_start_num-1\n",
    "                    k_end_num=k_start_num+3\n",
    "                #歌曲\n",
    "                this_flag=this_flag-1\n",
    "                \n",
    "        if(p==\"D\"):\n",
    "            if(this_flag==n):\n",
    "                #歌曲\n",
    "                this_flag=1\n",
    "                #框\n",
    "                k_start_num=1\n",
    "                k_end_num=k_start_num+3\n",
    "            else:\n",
    "                #框\n",
    "                if(this_flag in [k_start_num,k_start_num+1,k_start_num+2]):\n",
    "                    pass\n",
    "                else:\n",
    "                    k_start_num=k_start_num+1\n",
    "                    k_end_num=k_start_num+3\n",
    "                #歌曲\n",
    "                this_flag=this_flag+1\n",
    "        \n",
    "        print(\"*\"*100)\n",
    "        if(p==\"U\"):\n",
    "            print(\"↑:\")\n",
    "        if(p==\"D\"):\n",
    "            print(\"↓:\")\n",
    "        print(k_start_num,k_start_num+1,k_start_num+2,k_start_num+3)\n",
    "        print(\"this_flag\",this_flag)\n",
    "#     print(k_start_num,k_start_num+1,k_start_num+2,k_start_num+3)\n",
    "#     print(this_flag)\n",
    "        "
   ]
  },
  {
   "cell_type": "code",
   "execution_count": 27,
   "metadata": {},
   "outputs": [],
   "source": [
    "import sys\n",
    "ii=[]\n",
    "for line in sys.stdin:\n",
    "    a = line.split()\n",
    "    ii.append(a)\n",
    "list_one=[\"reset\"]\n",
    "\n",
    "list_two_a=[\"reset\",\"board\",\"reboot\",\"backplane\"]\n",
    "list_two_b=[\"board\",\"add\",\"delete\",\"backplane\",\"abort\"]\n",
    "\n",
    "good_cmd_list=[\"reset\",\"reset board\",\"board add\",\"board delete\",\"reboot backplane\",\"backplane abort\"]\n",
    "print_list=[\"reset what\",\"board fault\",\"where to add\",\"no board at all\",\"impossible\",\"install first\"]\n",
    "def if_a_belong_b(cmd,target):\n",
    "    if(len(cmd)>len(target)):\n",
    "        return False\n",
    "    else:\n",
    "        for c in cmd:\n",
    "            if(c not in target):\n",
    "                return False\n",
    "            else:\n",
    "                tmp_index=target.index(c)\n",
    "                target=target[tmp_index+1:]\n",
    "        return True\n",
    "def get_in_list(s,ll):\n",
    "    res=[]\n",
    "    for l in ll:\n",
    "        if(if_a_belong_b(s, l)):\n",
    "            res.append(l)\n",
    "    return res\n",
    "for line in ii:\n",
    "    if(len(line)==1):\n",
    "        cmd=line[0]\n",
    "        res_list=get_in_list(cmd,list_one)\n",
    "        if(len(res_list)==1):\n",
    "            index=good_cmd_list.index(res_list[0])\n",
    "            print(print_list[index])\n",
    "        else:\n",
    "            print(\"unknown command\")\n",
    "    else:\n",
    "        cmd1=line[0]\n",
    "        cmd2=line[1]\n",
    "        res1_list=get_in_list(cmd1, list_two_a)\n",
    "        res2_list=get_in_list(cmd2, list_two_b)\n",
    "        res_list=[]\n",
    "        if(len(res1_list)>0 and len(res2_list)>0):\n",
    "            for p1 in res1_list:\n",
    "                for p2 in res2_list:\n",
    "                    this_total_cmd=p1+\" \"+p2\n",
    "                    if(this_total_cmd in good_cmd_list):\n",
    "                        res_list.append(this_total_cmd)\n",
    "        if(len(res_list)==1):\n",
    "            index=good_cmd_list.index(res_list[0])\n",
    "            print(print_list[index])\n",
    "        else:\n",
    "            print(\"unknown command\")"
   ]
  },
  {
   "cell_type": "markdown",
   "metadata": {},
   "source": [
    "# 时间戳"
   ]
  },
  {
   "cell_type": "code",
   "execution_count": 43,
   "metadata": {},
   "outputs": [
    {
     "name": "stdout",
     "output_type": "stream",
     "text": [
      "1551110400\n",
      "1551024000\n",
      "1550937600\n",
      "-86400\n",
      "-86400\n"
     ]
    }
   ],
   "source": [
    "import time\n",
    "str_time1 = '2019-2-26 00:00:00'\n",
    "str_time2 = '2019-2-25 00:00:00'\n",
    "str_time3 = '2019-2-24 00:00:00'\n",
    "c1a=time.strptime(str_time1, '%Y-%m-%d %H:%M:%S')\n",
    "c2a=time.strptime(str_time2, '%Y-%m-%d %H:%M:%S')\n",
    "c3a=time.strptime(str_time3, '%Y-%m-%d %H:%M:%S')\n",
    "\n",
    "# 转换为时间戳\n",
    "c1 = int(time.mktime(c1a))\n",
    "c2 = int(time.mktime(c2a))\n",
    "c3 = int(time.mktime(c3a))\n",
    "print(c1)\n",
    "print(c2)\n",
    "print(c3)\n",
    "print(c3-c2)\n",
    "print(c2-c1)"
   ]
  },
  {
   "cell_type": "code",
   "execution_count": 35,
   "metadata": {},
   "outputs": [
    {
     "name": "stdout",
     "output_type": "stream",
     "text": [
      "1557502800\n",
      "2019/05/10 23:40:00\n"
     ]
    }
   ],
   "source": [
    "import time\n",
    " \n",
    "a1 = \"2019-5-10 23:40:00\"\n",
    "# 先转换为时间数组\n",
    "timeArray = time.strptime(a1, \"%Y-%m-%d %H:%M:%S\")\n",
    " \n",
    "# 转换为时间戳\n",
    "timeStamp = int(time.mktime(timeArray))\n",
    "print(timeStamp)\n",
    " \n",
    " \n",
    "# 格式转换 - 转为 /\n",
    "a2 = \"2019/5/10 23:40:00\"\n",
    "# 先转换为时间数组,然后转换为其他格式\n",
    "timeArray = time.strptime(a2, \"%Y/%m/%d %H:%M:%S\")\n",
    "otherStyleTime = time.strftime(\"%Y/%m/%d %H:%M:%S\", timeArray)\n",
    "print(otherStyleTime)"
   ]
  },
  {
   "cell_type": "code",
   "execution_count": 66,
   "metadata": {},
   "outputs": [
    {
     "name": "stdout",
     "output_type": "stream",
     "text": [
      "3\n"
     ]
    }
   ],
   "source": [
    "a=[1,2,3,4]\n",
    "a.pop(1)\n",
    "print(a[1])"
   ]
  },
  {
   "cell_type": "markdown",
   "metadata": {},
   "source": [
    "# 测试"
   ]
  },
  {
   "cell_type": "code",
   "execution_count": 75,
   "metadata": {},
   "outputs": [
    {
     "name": "stdin",
     "output_type": "stream",
     "text": [
      " u \"a e i o u\" r\n"
     ]
    },
    {
     "name": "stdout",
     "output_type": "stream",
     "text": [
      "['u', '\"a', 'e', 'i', 'o', 'u\"', 'r']\n",
      "7\n",
      "u\n",
      "a e i o u\n",
      "\n",
      "\n",
      "\n",
      "\n",
      "r\n"
     ]
    }
   ],
   "source": [
    "\n",
    "s=input().split()\n",
    "print(s)\n",
    "\n",
    "def process_once(s):\n",
    "    flag=0\n",
    "    for i in range(len(s)):\n",
    "        if('\"' in str(s[i])):\n",
    "            #print(s[i])\n",
    "            if(s[i].count('\"')==2):\n",
    "                flag=1\n",
    "                s[i]=s[i][1:-1]\n",
    "            elif(s[i].count('\"')==1):\n",
    "                flag=1\n",
    "                left=i\n",
    "                right=0\n",
    "                for k in range(i+1,len(s)):\n",
    "                    if('\"' in s[k]):\n",
    "                        right=k\n",
    "                #找到了 一堆“”\n",
    "                start=s[left][1:]\n",
    "                end=s[right][:-1]\n",
    "                tmp_str=start+\" \"\n",
    "                for i in range(left+1,right):\n",
    "                    tmp_str=tmp_str+s[i]+\" \"\n",
    "                tmp_str=tmp_str+end\n",
    "                # left位置置为新字符串\n",
    "                # 其它位置删除\n",
    "                s[left]=tmp_str\n",
    "#                 print(\"tmp_str\",tmp_str)\n",
    "                for i in range(left+1,right+1):\n",
    "                    s[i]=\"\"\n",
    "    return s,flag\n",
    "print(len(s))\n",
    "s,flag=process_once(s)\n",
    "for p in s:\n",
    "    print(p)\n",
    "# u \"a e i o u\" r"
   ]
  },
  {
   "cell_type": "markdown",
   "metadata": {},
   "source": [
    "# 堆栈"
   ]
  },
  {
   "cell_type": "code",
   "execution_count": 83,
   "metadata": {},
   "outputs": [
    {
     "name": "stdout",
     "output_type": "stream",
     "text": [
      "[1, 2]\n",
      "[1, 2, 9]\n"
     ]
    }
   ],
   "source": [
    "l1=[1,2,3]\n",
    "l1.pop()\n",
    "print(l1)\n",
    "l1.append(9)\n",
    "print(l1)"
   ]
  },
  {
   "cell_type": "markdown",
   "metadata": {
    "tags": []
   },
   "source": [
    "# 全排列"
   ]
  },
  {
   "cell_type": "code",
   "execution_count": 173,
   "metadata": {
    "tags": []
   },
   "outputs": [
    {
     "name": "stdout",
     "output_type": "stream",
     "text": [
      "3628800\n",
      "0.3540802001953125\n"
     ]
    }
   ],
   "source": [
    "import itertools\n",
    "import time\n",
    "# print(list(itertools.permutations([1, 2, 3,4,5,6],6)))\n",
    "nlist=[1, 2, 3,4,5,6,7,8,9,10]\n",
    "t1=time.time()\n",
    "res=list(itertools.permutations(nlist,len(nlist)))\n",
    "print(len(res))\n",
    "t2=time.time()\n",
    "print(t2-t1)\n",
    "# for p in [1,2,3,4]:\n",
    "#     print(p)"
   ]
  },
  {
   "cell_type": "code",
   "execution_count": 102,
   "metadata": {},
   "outputs": [
    {
     "name": "stdout",
     "output_type": "stream",
     "text": [
      "****************************************************************************************************\n",
      "11 8\n",
      "[1]\n",
      "****************************************************************************************************\n",
      "22 16\n",
      "[1, 2, 11]\n",
      "****************************************************************************************************\n",
      "33 24\n",
      "[1, 3, 11]\n",
      "****************************************************************************************************\n",
      "44 32\n",
      "[1, 2, 4, 11, 22]\n",
      "****************************************************************************************************\n",
      "55 40\n",
      "[1, 5, 11]\n",
      "****************************************************************************************************\n",
      "66 48\n",
      "[1, 2, 3, 6, 11, 22, 33]\n",
      "(1, 3, 11, 33)\n",
      "66.0\n",
      "22.0\n",
      "6.0\n",
      "2.0\n"
     ]
    }
   ],
   "source": [
    "from itertools import combinations,permutations\n",
    "src_fenzi=8\n",
    "src_fenmu=11\n",
    "# 5个 1/10 能否变成 1/X\n",
    "def can_to_one(fenmu,num):\n",
    "    if(fenmu % num == 0):\n",
    "        return True\n",
    "    else:\n",
    "        return False\n",
    "# 1/110  80个\n",
    "def check_this_list_ok(fenmu,fenzi_num):\n",
    "    res=[1]\n",
    "    for i in range(2,fenzi_num):\n",
    "        if(can_to_one(fenmu,i)):\n",
    "            res.append(i)\n",
    "    print(\"*\"*100)\n",
    "    print(fenmu,fenzi)\n",
    "    print(res)\n",
    "    #\n",
    "    find_flag=0\n",
    "    for i in range(len(res)):\n",
    "        sub_list = list(combinations(res,i+1))\n",
    "        for sub in sub_list:\n",
    "            if(sum(sub)==fenzi_num):\n",
    "                return True,sub\n",
    "                break\n",
    "                find_flag=1\n",
    "        if(find_flag==1):\n",
    "            break       \n",
    "    else:\n",
    "        return False,\"cnm\"\n",
    "        \n",
    "flag_t=0\n",
    "beilv=1\n",
    "while(flag_t==0):\n",
    "    fenzi=src_fenzi*beilv\n",
    "    fenmu=src_fenmu*beilv\n",
    "    flag,res=check_this_list_ok(fenmu,fenzi)\n",
    "    if(flag==True):\n",
    "        print(res)\n",
    "        for p in res:\n",
    "            print(fenmu/p)\n",
    "            # print(1+\"/\"+str(fenmu%p),end=\" \")\n",
    "        flag_t=1\n",
    "    else:\n",
    "        beilv=beilv+1"
   ]
  },
  {
   "cell_type": "code",
   "execution_count": 110,
   "metadata": {},
   "outputs": [
    {
     "name": "stdout",
     "output_type": "stream",
     "text": [
      "[1, 1]\n",
      "[1, 0]\n",
      "[1, 0]\n",
      "1 1\n",
      "1 2\n"
     ]
    },
    {
     "ename": "IndexError",
     "evalue": "list index out of range",
     "output_type": "error",
     "traceback": [
      "\u001b[1;31m---------------------------------------------------------------------------\u001b[0m",
      "\u001b[1;31mIndexError\u001b[0m                                Traceback (most recent call last)",
      "\u001b[1;32m<ipython-input-110-b931fc4e2dbc>\u001b[0m in \u001b[0;36m<module>\u001b[1;34m\u001b[0m\n\u001b[0;32m     12\u001b[0m     \u001b[1;32mfor\u001b[0m \u001b[0mj\u001b[0m \u001b[1;32min\u001b[0m \u001b[0mrange\u001b[0m\u001b[1;33m(\u001b[0m\u001b[1;36m1\u001b[0m\u001b[1;33m,\u001b[0m\u001b[0mm\u001b[0m\u001b[1;33m)\u001b[0m\u001b[1;33m:\u001b[0m\u001b[1;33m\u001b[0m\u001b[1;33m\u001b[0m\u001b[0m\n\u001b[0;32m     13\u001b[0m         \u001b[0mprint\u001b[0m\u001b[1;33m(\u001b[0m\u001b[0mi\u001b[0m\u001b[1;33m,\u001b[0m\u001b[0mj\u001b[0m\u001b[1;33m)\u001b[0m\u001b[1;33m\u001b[0m\u001b[1;33m\u001b[0m\u001b[0m\n\u001b[1;32m---> 14\u001b[1;33m         \u001b[0mdp\u001b[0m\u001b[1;33m[\u001b[0m\u001b[0mi\u001b[0m\u001b[1;33m]\u001b[0m\u001b[1;33m[\u001b[0m\u001b[0mj\u001b[0m\u001b[1;33m]\u001b[0m\u001b[1;33m=\u001b[0m\u001b[0mdp\u001b[0m\u001b[1;33m[\u001b[0m\u001b[0mi\u001b[0m\u001b[1;33m-\u001b[0m\u001b[1;36m1\u001b[0m\u001b[1;33m]\u001b[0m\u001b[1;33m[\u001b[0m\u001b[0mj\u001b[0m\u001b[1;33m]\u001b[0m\u001b[1;33m+\u001b[0m\u001b[0mdp\u001b[0m\u001b[1;33m[\u001b[0m\u001b[0mi\u001b[0m\u001b[1;33m]\u001b[0m\u001b[1;33m[\u001b[0m\u001b[0mj\u001b[0m\u001b[1;33m-\u001b[0m\u001b[1;36m1\u001b[0m\u001b[1;33m]\u001b[0m\u001b[1;33m\u001b[0m\u001b[1;33m\u001b[0m\u001b[0m\n\u001b[0m\u001b[0;32m     15\u001b[0m \u001b[1;32mfor\u001b[0m \u001b[0mp\u001b[0m \u001b[1;32min\u001b[0m \u001b[0mdp\u001b[0m\u001b[1;33m:\u001b[0m\u001b[1;33m\u001b[0m\u001b[1;33m\u001b[0m\u001b[0m\n\u001b[0;32m     16\u001b[0m     \u001b[0mprint\u001b[0m\u001b[1;33m(\u001b[0m\u001b[0mp\u001b[0m\u001b[1;33m)\u001b[0m\u001b[1;33m\u001b[0m\u001b[1;33m\u001b[0m\u001b[0m\n",
      "\u001b[1;31mIndexError\u001b[0m: list index out of range"
     ]
    }
   ],
   "source": [
    "\n",
    "n=1+1\n",
    "m=2+1\n",
    "dp=[[0]*n for _ in range(0,m)]\n",
    "for i in range(0,n):\n",
    "    dp[0][i]=1\n",
    "for i in range(0,m):\n",
    "    dp[i][0]=1\n",
    "for p in dp:\n",
    "    print(p)\n",
    "for i in range(1,n):\n",
    "    \n",
    "    for j in range(1,m):\n",
    "        print(i,j)\n",
    "        dp[i][j]=dp[i-1][j]+dp[i][j-1]\n",
    "for p in dp:\n",
    "    print(p)\n",
    "print(dp[-1][-1])"
   ]
  },
  {
   "cell_type": "markdown",
   "metadata": {},
   "source": [
    "# round"
   ]
  },
  {
   "cell_type": "code",
   "execution_count": 114,
   "metadata": {},
   "outputs": [
    {
     "name": "stdout",
     "output_type": "stream",
     "text": [
      "12.0\n"
     ]
    }
   ],
   "source": [
    "a=12.00000000000000000\n",
    "a=round(a,1)\n",
    "print(a)"
   ]
  },
  {
   "cell_type": "code",
   "execution_count": 126,
   "metadata": {},
   "outputs": [
    {
     "name": "stdout",
     "output_type": "stream",
     "text": [
      "4\n",
      "2178 8712\n",
      "21978 87912\n",
      "219978 879912\n",
      "2199978 8799912\n"
     ]
    }
   ],
   "source": [
    "a=10000000\n",
    "b=int(a/4)+1\n",
    "def check(n):\n",
    "    n4=int(4*n)\n",
    "    n=list(str(n))\n",
    "    n4=list(str(n4))\n",
    "    n4.reverse()\n",
    "    if(n4==n):\n",
    "        return True\n",
    "    else:\n",
    "        return False\n",
    "res=[]\n",
    "if(b<2178):\n",
    "    print(0)\n",
    "else:\n",
    "    for i in range(2178,b+2):\n",
    "        if(check(i)):\n",
    "            res.append(i)\n",
    "    print(len(res))\n",
    "    for p in res:\n",
    "        print(str(p)+\" \"+str(int(4*p)))"
   ]
  },
  {
   "cell_type": "code",
   "execution_count": 131,
   "metadata": {},
   "outputs": [
    {
     "name": "stdout",
     "output_type": "stream",
     "text": [
      "d\n"
     ]
    }
   ],
   "source": [
    "a=101\n",
    "c=10\n",
    "if(10<=a<=100 and a<10):\n",
    "    print(\"c\")\n",
    "else:\n",
    "    print(\"d\")"
   ]
  },
  {
   "cell_type": "markdown",
   "metadata": {},
   "source": [
    "# pop"
   ]
  },
  {
   "cell_type": "code",
   "execution_count": 174,
   "metadata": {},
   "outputs": [
    {
     "name": "stdout",
     "output_type": "stream",
     "text": [
      "[11, 22, 42]\n"
     ]
    }
   ],
   "source": [
    "a=[11,22,32,42]\n",
    "a.pop(2)\n",
    "print(a)"
   ]
  },
  {
   "cell_type": "markdown",
   "metadata": {},
   "source": [
    "# for循环加速"
   ]
  },
  {
   "cell_type": "code",
   "execution_count": 9,
   "metadata": {},
   "outputs": [
    {
     "name": "stdout",
     "output_type": "stream",
     "text": [
      "[1, 3, 5, 0.5, 0.5, 0.5]\n"
     ]
    }
   ],
   "source": [
    "# for i in range(10,-1,-2):\n",
    "#     print(i)\n",
    "a=[1,3,5]\n",
    "\n",
    "print(a+[0.5]*3)"
   ]
  },
  {
   "cell_type": "code",
   "execution_count": null,
   "metadata": {},
   "outputs": [],
   "source": [
    "import multiprocessing\n",
    "\n",
    "def sumall(value):\n",
    "    return sum(range(1, value + 1))\n",
    "\n",
    "pool_obj = multiprocessing.Pool()\n",
    "\n",
    "answer = pool_obj.map(sumall,range(0,5))\n",
    "print(answer)"
   ]
  },
  {
   "cell_type": "code",
   "execution_count": null,
   "metadata": {},
   "outputs": [],
   "source": [
    "import time\n",
    "import multiprocessing\n",
    "\n",
    "res=[]\n",
    "\n",
    "def add(a: int, b: int):\n",
    "    global res\n",
    "    res.append (a + b)\n",
    "\n",
    "t1=time.time()\n",
    "\n",
    "pool = multiprocessing.Pool(4) # 全部cpu执行\n",
    "\n",
    "for i in range(3000):\n",
    "    pool.apply_async(func=add,args=(i, i + 1))\n",
    "pool.close()\n",
    "pool.join()\n",
    "t2=time.time()\n",
    "print(t2-t1)"
   ]
  },
  {
   "cell_type": "markdown",
   "metadata": {},
   "source": [
    "# 取模"
   ]
  },
  {
   "cell_type": "code",
   "execution_count": 2,
   "metadata": {},
   "outputs": [
    {
     "data": {
      "text/plain": [
       "1"
      ]
     },
     "execution_count": 2,
     "metadata": {},
     "output_type": "execute_result"
    }
   ],
   "source": [
    "1 % 10000000000000"
   ]
  },
  {
   "cell_type": "code",
   "execution_count": 5,
   "metadata": {},
   "outputs": [
    {
     "name": "stdout",
     "output_type": "stream",
     "text": [
      "112\n"
     ]
    }
   ],
   "source": [
    "a=\"00000112\"\n",
    "b=int(a)\n",
    "print(b)"
   ]
  },
  {
   "cell_type": "markdown",
   "metadata": {},
   "source": [
    "# 二叉树序列化 与反序列化"
   ]
  },
  {
   "cell_type": "code",
   "execution_count": 11,
   "metadata": {},
   "outputs": [
    {
     "name": "stdout",
     "output_type": "stream",
     "text": [
      "1\n",
      "2\n",
      "3\n",
      "None\n",
      "None\n",
      "4\n",
      "5\n",
      "<__main__.TreeNode object at 0x000001F1F693BCC8>\n"
     ]
    }
   ],
   "source": [
    "class TreeNode(object):\n",
    "    def __init__(self, x):\n",
    "        self.val = x\n",
    "        self.left = None\n",
    "        self.right = None\n",
    "\n",
    "def deserialize(li):\n",
    "    def dfs():\n",
    "        if(li):\n",
    "            first = li.pop(0)\t\t# 每个节点可以看做一棵树的根节点\n",
    "            print(first)\n",
    "\n",
    "            if first == None:\n",
    "                return None\n",
    "            else:\n",
    "                node = TreeNode(int(first))\n",
    "                node.left = dfs()\n",
    "                node.right = dfs()\n",
    "            return node\n",
    "        else:\n",
    "            return None\n",
    "    \n",
    "    return dfs()\n",
    "\n",
    "data=[1,2,3,None,None,4,5]\n",
    "res=deserialize(data)\n",
    "print(res)"
   ]
  },
  {
   "cell_type": "code",
   "execution_count": 12,
   "metadata": {},
   "outputs": [
    {
     "name": "stdout",
     "output_type": "stream",
     "text": [
      "[1, 2, 3, 4, 5]\n"
     ]
    }
   ],
   "source": [
    "see_res=[]\n",
    "def travel(root):\n",
    "    global see_res\n",
    "    if(root==None):\n",
    "        return\n",
    "    else:\n",
    "        see_res.append(root.val)\n",
    "        travel(root.left)\n",
    "        travel(root.right)\n",
    "def preorderTraversal(root):\n",
    "    travel(root)\n",
    "    return see_res\n",
    "print(preorderTraversal(res))"
   ]
  },
  {
   "cell_type": "code",
   "execution_count": null,
   "metadata": {},
   "outputs": [],
   "source": []
  }
 ],
 "metadata": {
  "kernelspec": {
   "display_name": "Python 3 (ipykernel)",
   "language": "python",
   "name": "python3"
  },
  "language_info": {
   "codemirror_mode": {
    "name": "ipython",
    "version": 3
   },
   "file_extension": ".py",
   "mimetype": "text/x-python",
   "name": "python",
   "nbconvert_exporter": "python",
   "pygments_lexer": "ipython3",
   "version": "3.7.13"
  },
  "toc-autonumbering": true
 },
 "nbformat": 4,
 "nbformat_minor": 4
}
