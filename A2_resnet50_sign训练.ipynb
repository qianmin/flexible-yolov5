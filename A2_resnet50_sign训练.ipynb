{
 "cells": [
  {
   "cell_type": "markdown",
   "metadata": {},
   "source": [
    "# 版本控制"
   ]
  },
  {
   "cell_type": "code",
   "execution_count": 1,
   "metadata": {},
   "outputs": [],
   "source": [
    "train_batch_size=256\n",
    "val_batch_size=16\n",
    "folder_name=\"./weight_sign/\"\n",
    "version_name=\"r50_sign\"\n",
    "train_step=10\n",
    "train_gama=0.9\n",
    "\n",
    "data_set=\"fusion\"\n",
    "\n",
    "save_gpu=True"
   ]
  },
  {
   "cell_type": "markdown",
   "metadata": {},
   "source": [
    "# import"
   ]
  },
  {
   "cell_type": "code",
   "execution_count": 2,
   "metadata": {},
   "outputs": [],
   "source": [
    "import torch, torchvision\n",
    "import torch.nn as nn\n",
    "import torch.nn.functional as F\n",
    "from torchvision.models.resnet import Bottleneck\n",
    "import numpy as np\n",
    "from itertools import product\n",
    "from math import sqrt\n",
    "from typing import List\n",
    "from collections import defaultdict\n",
    "from PIL import Image\n",
    "\n",
    "import torch.backends.cudnn as cudnn\n",
    "\n",
    "import matplotlib.pyplot as plt\n",
    "from PIL import Image\n",
    "import cv2\n",
    "import os\n",
    "import random\n",
    "%matplotlib inline\n",
    "import time\n",
    "from PIL import Image\n",
    "from torchvision.transforms import ToTensor,ToPILImage\n",
    "from torchvision.transforms import Resize\n",
    "from torchvision import transforms\n",
    "import torch.optim as optim\n",
    "# from apex.contrib.optimizers import FP16_Optimizer\n",
    "# from apex.fp16_utils import network_to_half\n",
    "from torch.optim import lr_scheduler\n",
    "from torch.autograd import Variable\n",
    "import numpy as np\n",
    "from torch.utils.data import DataLoader,Dataset\n",
    "from tqdm import tqdm\n",
    "from IPython.display import clear_output\n",
    "def clear():\n",
    "    clear_output(wait=True)"
   ]
  },
  {
   "cell_type": "markdown",
   "metadata": {},
   "source": [
    "# 准备数据"
   ]
  },
  {
   "cell_type": "markdown",
   "metadata": {},
   "source": [
    "## dataset"
   ]
  },
  {
   "cell_type": "code",
   "execution_count": 3,
   "metadata": {},
   "outputs": [
    {
     "name": "stdout",
     "output_type": "stream",
     "text": [
      "['0.5429166666666667', '0.4855555555555556', '0.009166666666666667', '0.05555555555555555', '0.6310666666666667']\n",
      "6061\n",
      "tensor([0.5429, 0.4856, 0.0092, 0.0556, 0.6311], device='cuda:0')\n"
     ]
    }
   ],
   "source": [
    "train_txt_path=\"D://WIDC//yolo//task_dis//dataset_sign//train_sign.txt\"\n",
    "val_txt_path=\"D://WIDC//yolo//task_dis//dataset_sign//val_sign.txt\"\n",
    "\n",
    "f1=open(train_txt_path)\n",
    "train_dis_list = f1.readlines()\n",
    "\n",
    "f2=open(val_txt_path)\n",
    "val_dis_list = f2.readlines()\n",
    "\n",
    "\n",
    "tt=train_dis_list[0].split()\n",
    "print(tt)\n",
    "print(len(train_dis_list))\n",
    "\n",
    "tt=np.array(tt)\n",
    "tt=tt.astype(np.float32)\n",
    "tt=torch.from_numpy(tt).cuda()\n",
    "print(tt)"
   ]
  },
  {
   "cell_type": "code",
   "execution_count": 4,
   "metadata": {},
   "outputs": [],
   "source": [
    "class qmdataset(Dataset): #继承Dataset\n",
    "    def __init__(self, dis_list, transform=None): #__init__是初始化该类的一些基础参数\n",
    "        self.dis_list = dis_list\n",
    "        self.transform=transform\n",
    "    \n",
    "    def __len__(self):#返回整个数据集的大小\n",
    "        return len(self.dis_list)\n",
    "    \n",
    "    def __getitem__(self,index):#根据索引index返回dataset[index]\n",
    "        tt=self.dis_list[index].split()\n",
    "        tt=np.array(tt)\n",
    "        tt=tt.astype(np.float32)\n",
    "        tt=torch.from_numpy(tt).cuda()\n",
    "        xyxy=tt[:-1]\n",
    "        dis=tt[-1]\n",
    "        \n",
    "        dis=dis.unsqueeze(-1)   \n",
    "        \n",
    "        return xyxy, dis #返回该样本"
   ]
  },
  {
   "cell_type": "code",
   "execution_count": 5,
   "metadata": {
    "tags": []
   },
   "outputs": [
    {
     "name": "stdout",
     "output_type": "stream",
     "text": [
      "<__main__.qmdataset object at 0x000002720A7021C8>\n",
      "tensor([0.5596, 0.4861, 0.0108, 0.0633], device='cuda:0')\n",
      "tensor([0.5389], device='cuda:0')\n",
      "torch.Size([4]) torch.Size([1])\n"
     ]
    }
   ],
   "source": [
    "train_dataset = qmdataset(train_dis_list,transform=None)#初始化类，设置数据集所在路径以及变换\n",
    "val_dataset = qmdataset(val_dis_list,transform=None)#初始化类，设置数据集所在路径以及变换\n",
    "\n",
    "print(train_dataset)\n",
    "a=train_dataset[1]\n",
    "print(a[0])\n",
    "print(a[1])\n",
    "print(a[0].shape,a[1].shape)\n",
    "\n"
   ]
  },
  {
   "cell_type": "markdown",
   "metadata": {},
   "source": [
    "## dataloader"
   ]
  },
  {
   "cell_type": "code",
   "execution_count": 6,
   "metadata": {
    "tags": []
   },
   "outputs": [],
   "source": [
    "train_dataloader = DataLoader(train_dataset,batch_size=train_batch_size,shuffle=True)#使用DataLoader加载数据\n",
    "val_dataloader = DataLoader(val_dataset,batch_size=val_batch_size,shuffle=True)#使用DataLoader加载数据"
   ]
  },
  {
   "cell_type": "markdown",
   "metadata": {},
   "source": [
    "# 查看dataloader"
   ]
  },
  {
   "cell_type": "code",
   "execution_count": 7,
   "metadata": {},
   "outputs": [
    {
     "name": "stdout",
     "output_type": "stream",
     "text": [
      "0\n",
      "torch.Size([256, 4])\n",
      "torch.Size([256, 1])\n",
      "24\n",
      "torch.Size([256, 4])\n",
      "torch.Size([256, 1])\n"
     ]
    }
   ],
   "source": [
    "num=1\n",
    "flag=0\n",
    "\n",
    "t_inputs=0\n",
    "t_labels=0\n",
    "for a,b in enumerate(train_dataloader):\n",
    "    print(a)\n",
    "    print(b[0].shape)\n",
    "    print(b[1].shape)\n",
    "    # print(b[1])\n",
    "    t_inputs=b[0]\n",
    "    t_labels=b[1]\n",
    "    flag=flag+1\n",
    "    if(flag==num):\n",
    "        break\n",
    "print(len(train_dataloader))\n",
    "\n",
    "for a,b in train_dataloader:\n",
    "    tb_start=time.time()\n",
    "    # get the inputs\n",
    "    #inputs [32x4]\n",
    "    #labels [32x1]\n",
    "    inputs, labels = b[0],b[1]\n",
    "    print(a.shape)\n",
    "    print(b.shape)\n",
    "    break"
   ]
  },
  {
   "cell_type": "markdown",
   "metadata": {},
   "source": [
    "# 模型"
   ]
  },
  {
   "cell_type": "code",
   "execution_count": 8,
   "metadata": {
    "tags": []
   },
   "outputs": [],
   "source": [
    "class disnet(nn.Module):\n",
    "    def __init__(self):\n",
    "        super(disnet,self).__init__()\n",
    "        self.backbone=nn.Sequential(\n",
    "            nn.Linear(4,2048),\n",
    "            nn.ReLU(),\n",
    "            nn.Linear(2048,256),\n",
    "            nn.ReLU(),\n",
    "            nn.Linear(256,1),\n",
    "        )\n",
    "    def forward(self, x):\n",
    "        x=self.backbone(x)\n",
    "        return x\n",
    "model=disnet().cuda()"
   ]
  },
  {
   "cell_type": "markdown",
   "metadata": {},
   "source": [
    "### (训练时请不要运行,显存不够）"
   ]
  },
  {
   "cell_type": "code",
   "execution_count": 9,
   "metadata": {
    "tags": []
   },
   "outputs": [
    {
     "name": "stdout",
     "output_type": "stream",
     "text": [
      "t_inputs.shape torch.Size([256, 4]) tensor([0.7883, 0.4644, 0.0783, 0.3733], device='cuda:0')\n",
      "t_outputs.shape torch.Size([256, 1]) tensor([0.0577], device='cuda:0', grad_fn=<SelectBackward>)\n",
      "t_labels.shape torch.Size([256, 1]) tensor([0.0977], device='cuda:0')\n",
      "torch.Size([])\n",
      "tensor(0.1224, device='cuda:0', grad_fn=<MseLossBackward>)\n"
     ]
    }
   ],
   "source": [
    "criterion = nn.MSELoss()\n",
    "print(\"t_inputs.shape\",t_inputs.shape,t_inputs[0])\n",
    "t_outputs=model(t_inputs)\n",
    "print(\"t_outputs.shape\",t_outputs.shape,t_outputs[0])\n",
    "print(\"t_labels.shape\",t_labels.shape,t_labels[0])\n",
    "loss=criterion(t_outputs,t_labels)\n",
    "\n",
    "print(loss.shape)\n",
    "print(loss)"
   ]
  },
  {
   "cell_type": "markdown",
   "metadata": {},
   "source": [
    "# 开始训练"
   ]
  },
  {
   "cell_type": "markdown",
   "metadata": {},
   "source": [
    "## 参数"
   ]
  },
  {
   "cell_type": "code",
   "execution_count": 10,
   "metadata": {},
   "outputs": [],
   "source": [
    "# 平方差损失函数\n",
    "criterion = nn.MSELoss()\n",
    "#\n",
    "optimizer = optim.SGD(model.parameters(), lr = 0.01, weight_decay=5e-4, momentum=0.9, nesterov=True)\n",
    "#\n",
    "exp_lr_scheduler = lr_scheduler.StepLR(optimizer, step_size=50, gamma=0.2)\n"
   ]
  },
  {
   "cell_type": "markdown",
   "metadata": {},
   "source": [
    "## 损失记录"
   ]
  },
  {
   "cell_type": "code",
   "execution_count": 11,
   "metadata": {},
   "outputs": [],
   "source": [
    "train_epoch_loss=[]\n",
    "# train_epoch_acc=[]\n",
    "val_epoch_loss=[]\n",
    "#val_epoch_acc=[]\n",
    "\n",
    "last_val_loss=-1\n",
    "last_val_loss_name=-1\n",
    "# last_val_acc=-1\n",
    "# last_val_acc_name=-1"
   ]
  },
  {
   "cell_type": "markdown",
   "metadata": {},
   "source": [
    "## 训练函数"
   ]
  },
  {
   "cell_type": "code",
   "execution_count": 12,
   "metadata": {},
   "outputs": [],
   "source": [
    "def train_model(train_dataloader, val_dataloader,mycriterion, myoptimizer,myscheduler,my_num_epochs=50):\n",
    "    global train_epoch_loss,train_epoch_acc,val_epoch_loss,val_epoch_acc,last_val_loss,last_val_loss_name\n",
    "    since_time = time.time()\n",
    "\n",
    "    for epoch_i in range(0,my_num_epochs):\n",
    "        \n",
    "        epoch_start_time=time.time()\n",
    "        # Each epoch has a training and validation phase\n",
    "        # myscheduler.step()\n",
    "        ############################################################################train\n",
    "        ############################################################################train\n",
    "        ############################################################################train\n",
    "        # Set model to training mode\n",
    "        model.train(True)  \n",
    "        running_loss = 0.0\n",
    "        # Iterate over data.\n",
    "        pbar1 = tqdm(total=len(train_dataloader),desc=\"epoch:\"+str(epoch_i)+':train',leave=False,ncols=130,position=0)\n",
    "        for a,b in train_dataloader:\n",
    "            tb_start=time.time()\n",
    "            # get the inputs\n",
    "            #inputs [32x4]\n",
    "            #labels [32x1]\n",
    "            inputs, labels = a,b\n",
    "            # print(\"train inputs.shape:\",inputs.shape,inputs[0])\n",
    "            # print(\"train labels.shape:\",labels.shape,labels[0])\n",
    "            # now_batch_size, _ = inputs.shape\n",
    "            # print(\"now_batch_size:\",now_batch_size)\n",
    "#             if now_batch_size < train_batch_size:  # skip the last batch\n",
    "#                 print('continue')\n",
    "#                 continue\n",
    "            inputs = Variable(inputs.cuda().detach())\n",
    "            labels = Variable(labels.cuda().detach())\n",
    "            # zero the parameter gradients\n",
    "            myoptimizer.zero_grad()\n",
    "\n",
    "            # forward\n",
    "            outputs = model(inputs)\n",
    "            # print(\"outputs.shape\",outputs.shape,outputs[0])\n",
    "            loss = mycriterion(outputs, labels)\n",
    "            # print(\"train loss\",loss)\n",
    "            # print(\"*\"*100)\n",
    "            # statistics\n",
    "            running_loss += loss.item()\n",
    "            #running_corrects_num += float(torch.sum(preds == labels.data))\n",
    "            # backward + optimize only if in training phase\n",
    "            loss.backward()\n",
    "            myoptimizer.step()\n",
    "            \n",
    "            tb_end=time.time()\n",
    "            tmp_lr=myoptimizer.state_dict()['param_groups'][0]['lr']\n",
    "            pbar1.set_postfix(b_t=tb_end-tb_start,ep_t=tb_end-epoch_start_time,lr=tmp_lr)\n",
    "            pbar1.update(1)\n",
    "        pbar1.close()\n",
    "        epoch_train_end_time=time.time()\n",
    "            \n",
    "        myscheduler.step()\n",
    "        ##############\n",
    "        train_loss=running_loss\n",
    "        train_epoch_loss.append(train_loss)\n",
    "        print(\"train_loss\",train_loss)\n",
    "        ############################################################################val\n",
    "        ############################################################################val\n",
    "        ############################################################################val\n",
    "        # Set model to training mode\n",
    "        model.train(False)  \n",
    "        running_loss = 0.0\n",
    "        #running_corrects_num = 0.0\n",
    "        # Iterate over data.\n",
    "        pbar2 = tqdm(total=len(val_dataloader),desc=\"epoch:\"+str(epoch_i)+':val',leave=False,ncols=130,position=0)\n",
    "        for a,b in val_dataloader:\n",
    "            # get the inputs\n",
    "            tb_start=time.time()\n",
    "            inputs, labels = a,b\n",
    "#             now_batch_size, four = inputs.shape\n",
    "#             if now_batch_size < val_batch_size:  # skip the last batch\n",
    "#                  print('continue')\n",
    "#                 continue\n",
    "            inputs = Variable(inputs.cuda().detach())\n",
    "            labels = Variable(labels.cuda().detach())\n",
    "            # print(inputs.shape)\n",
    "            # print(labels.shape)\n",
    "            \n",
    "            # zero the parameter gradients\n",
    "            myoptimizer.zero_grad()\n",
    "            \n",
    "            with torch.no_grad():\n",
    "                outputs = model(inputs)\n",
    "\n",
    "            # forward\n",
    "            outputs = model(inputs)\n",
    "\n",
    "            #_, preds = torch.max(outputs.data, 1)\n",
    "            # print(outputs.shape)\n",
    "            # print(preds.shape)\n",
    "            loss = mycriterion(outputs, labels)\n",
    "\n",
    "\n",
    "            # statistics\n",
    "            running_loss += loss.item()\n",
    "            #running_corrects_num += float(torch.sum(preds == labels.data))\n",
    "            \n",
    "            tb_end=time.time()\n",
    "            pbar2.set_postfix(b_t=tb_end-tb_start,e_t=tb_end-epoch_train_end_time)\n",
    "            pbar2.update(1)\n",
    "        pbar2.close()\n",
    "        ##############\n",
    "        #val_loss\n",
    "        val_loss=running_loss\n",
    "        val_epoch_loss.append(val_loss)\n",
    "        ######################################################绘制acc图片\n",
    "        ######################################################绘制acc图片\n",
    "        ######################################################绘制acc图片\n",
    "        clear()\n",
    "        print(\"one epoch minutes:\",(time.time()-epoch_start_time)/60)\n",
    "        print(\"epoch i=\",epoch_i)\n",
    "        print('train_loss:',train_loss)\n",
    "        print('val_loss:',val_loss)\n",
    "        fig,axes=plt.subplots(1,2)\n",
    "        plt.rcParams['figure.figsize'] = (15, 5) # 单位是inches\n",
    "        axes[0].set_title('train_loss')\n",
    "        axes[0].plot(train_epoch_loss,marker='o')\n",
    "        axes[1].set_title('val_loss')\n",
    "        axes[1].plot(val_epoch_loss,marker='o')\n",
    "        plt.show()\n",
    "        ######################################################保存acc数据\n",
    "        train_log=[]\n",
    "        train_log.append(train_epoch_loss)\n",
    "        train_log.append(val_epoch_loss)\n",
    "        np.save(folder_name+version_name+\".npy\",train_log)\n",
    "    print(\"total minutes:\",(time.time()-since_time)/60)\n"
   ]
  },
  {
   "cell_type": "markdown",
   "metadata": {},
   "source": [
    "## 开始训练"
   ]
  },
  {
   "cell_type": "code",
   "execution_count": 13,
   "metadata": {
    "tags": []
   },
   "outputs": [
    {
     "name": "stdout",
     "output_type": "stream",
     "text": [
      "one epoch minutes: 0.01058576504389445\n",
      "epoch i= 159\n",
      "train_loss: 0.009685525699751452\n",
      "val_loss: 0.01320124018820934\n"
     ]
    },
    {
     "data": {
      "image/png": "[encoded data removed]",
      "text/plain": [
       "<Figure size 1080x360 with 2 Axes>"
      ]
     },
     "metadata": {
      "needs_background": "light"
     },
     "output_type": "display_data"
    },
    {
     "name": "stdout",
     "output_type": "stream",
     "text": [
      "total minutes: 1.9840210278828938\n",
      "./weight_sign/r50_sign.pth\n"
     ]
    }
   ],
   "source": [
    "train_model(train_dataloader,val_dataloader,criterion,optimizer,exp_lr_scheduler,160)\n",
    "\n",
    "save_name=folder_name+version_name+\".pth\"\n",
    "print(save_name)\n",
    "torch.save(model,save_name)"
   ]
  },
  {
   "cell_type": "code",
   "execution_count": 14,
   "metadata": {
    "tags": []
   },
   "outputs": [],
   "source": [
    "# train_model(train_dataloader,val_dataloader,criterion,optimizer,exp_lr_scheduler,80)\n",
    "\n",
    "# save_name=folder_name+version_name+\".pth\"\n",
    "# print(save_name)\n",
    "# torch.save(model,save_name)"
   ]
  },
  {
   "cell_type": "code",
   "execution_count": null,
   "metadata": {},
   "outputs": [],
   "source": []
  }
 ],
 "metadata": {
  "kernelspec": {
   "display_name": "Python 3 (ipykernel)",
   "language": "python",
   "name": "python3"
  },
  "language_info": {
   "codemirror_mode": {
    "name": "ipython",
    "version": 3
   },
   "file_extension": ".py",
   "mimetype": "text/x-python",
   "name": "python",
   "nbconvert_exporter": "python",
   "pygments_lexer": "ipython3",
   "version": "3.7.13"
  }
 },
 "nbformat": 4,
 "nbformat_minor": 4
}
